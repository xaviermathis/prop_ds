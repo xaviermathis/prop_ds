{
 "cells": [
  {
   "cell_type": "markdown",
   "metadata": {
    "focus": false,
    "id": "01a0feac-ab3d-4734-ab1e-ffaccc065b90",
    "slideshow": {
     "slide_type": "slide"
    }
   },
   "source": [
    "# LAB: Workflow de Datos. Limpieza y sumarización de datos para el Desafío 3.\n",
    "\n",
    "## Introducción\n",
    "\n",
    "La idea de este lab es comenzar a trabajar con los datos del Desafío 3. Vamos a tratar de comenzar con el proceso de limpieza, sumarización y análisis exploratorio del dataset de Properatti. Como recordarán, el objetivo final es el desarrollo de un tasador automático a ser aplicado a las próximas propiedades que sean comercializadas por la empresa mediante un modelo de regresión. Como verán, el dataset está sumamente \"sucio\" y require un intenso proceos de limpieza.\n",
    "\n",
    "El dataset contiene información referida al primer semestre de 2017 de las propiedades comercializables por la empresa:\n",
    "\n",
    "* Fecha de creación\n",
    "* Tipo de la propiedad (house, apartment, ph)\n",
    "* Operación del aviso (sell, rent)\n",
    "* Nombre del lugar\n",
    "* Nombre del lugar + nombre de sus ‘padres’\n",
    "* ID de geonames del lugar (si está disponible)\n",
    "* Latitud,Longitud\n",
    "* Precio original del aviso\n",
    "* Moneda original del aviso (ARS, USD)\n",
    "* Precio del aviso en moneda local (ARS)\n",
    "* Precio aproximado en USD\n",
    "* Superficie en m²\n",
    "* Superficie cubierta en m²\n",
    "* Precio en USD/m²\n",
    "* Precio por m²\n",
    "* N° de piso, si corresponde\n",
    "* Ambientes\n",
    "* URL en Properati\n",
    "* Descripción\n",
    "* Título\n",
    "* URL de un thumbnail de la primer foto\n",
    "\n",
    "\n",
    "Una vez terminada la limpieza, aquellos que se animen pueden empezar a probar algunos modelos simples de regresión.\n",
    "\n",
    "\n",
    "## Objetivos de aprendizaje\n",
    "\n",
    "* Practicar técnicas de limpieza de datos de tipo texto\n",
    "* Practicar conversiones de tipo de dato\n",
    "* Practicar rellenar datos faltantes con 0s o promedios\n",
    "* Practicar técnicas para trabajo con datos categóricos\n",
    "* Transformar datos a información útil\n",
    "* Realizar un primer análisis exploratorio\n",
    "* BONUS: realizar un primer modelo de regresión"
   ]
  },
  {
   "cell_type": "code",
   "execution_count": 1,
   "metadata": {
    "focus": false,
    "id": "13018c95-3582-460f-ba8e-4910f7089e11",
    "slideshow": {
     "slide_type": "subslide"
    }
   },
   "outputs": [],
   "source": [
    "% matplotlib inline\n",
    "import matplotlib.pyplot as plt\n",
    "import datetime\n",
    "import numpy as np\n",
    "import pandas as pd\n",
    "import seaborn as sns"
   ]
  },
  {
   "cell_type": "code",
   "execution_count": 2,
   "metadata": {
    "focus": false,
    "id": "80c8956f-2e08-49b5-90c6-f97c6a9676ad",
    "slideshow": {
     "slide_type": "slide"
    }
   },
   "outputs": [
    {
     "name": "stdout",
     "output_type": "stream",
     "text": [
      "Index(['Unnamed: 0', 'operation', 'property_type', 'place_name',\n",
      "       'place_with_parent_names', 'country_name', 'state_name', 'geonames_id',\n",
      "       'lat-lon', 'lat', 'lon', 'price', 'currency',\n",
      "       'price_aprox_local_currency', 'price_aprox_usd', 'surface_total_in_m2',\n",
      "       'surface_covered_in_m2', 'price_usd_per_m2', 'price_per_m2', 'floor',\n",
      "       'rooms', 'expenses', 'properati_url', 'description', 'title',\n",
      "       'image_thumbnail'],\n",
      "      dtype='object')\n"
     ]
    }
   ],
   "source": [
    "# Cargar la data\n",
    "df = pd.read_csv('properatti.csv')  # DATOS DE PROPIEDADES EN VENTA PROPERATI\n",
    "print(df.columns)"
   ]
  },
  {
   "cell_type": "code",
   "execution_count": 3,
   "metadata": {},
   "outputs": [
    {
     "data": {
      "text/html": [
       "<div>\n",
       "<style scoped>\n",
       "    .dataframe tbody tr th:only-of-type {\n",
       "        vertical-align: middle;\n",
       "    }\n",
       "\n",
       "    .dataframe tbody tr th {\n",
       "        vertical-align: top;\n",
       "    }\n",
       "\n",
       "    .dataframe thead th {\n",
       "        text-align: right;\n",
       "    }\n",
       "</style>\n",
       "<table border=\"1\" class=\"dataframe\">\n",
       "  <thead>\n",
       "    <tr style=\"text-align: right;\">\n",
       "      <th></th>\n",
       "      <th>Unnamed: 0</th>\n",
       "      <th>operation</th>\n",
       "      <th>property_type</th>\n",
       "      <th>place_name</th>\n",
       "      <th>place_with_parent_names</th>\n",
       "      <th>country_name</th>\n",
       "      <th>state_name</th>\n",
       "      <th>geonames_id</th>\n",
       "      <th>lat-lon</th>\n",
       "      <th>lat</th>\n",
       "      <th>...</th>\n",
       "      <th>surface_covered_in_m2</th>\n",
       "      <th>price_usd_per_m2</th>\n",
       "      <th>price_per_m2</th>\n",
       "      <th>floor</th>\n",
       "      <th>rooms</th>\n",
       "      <th>expenses</th>\n",
       "      <th>properati_url</th>\n",
       "      <th>description</th>\n",
       "      <th>title</th>\n",
       "      <th>image_thumbnail</th>\n",
       "    </tr>\n",
       "  </thead>\n",
       "  <tbody>\n",
       "    <tr>\n",
       "      <th>0</th>\n",
       "      <td>0</td>\n",
       "      <td>sell</td>\n",
       "      <td>PH</td>\n",
       "      <td>Mataderos</td>\n",
       "      <td>|Argentina|Capital Federal|Mataderos|</td>\n",
       "      <td>Argentina</td>\n",
       "      <td>Capital Federal</td>\n",
       "      <td>3430787.0</td>\n",
       "      <td>-34.6618237,-58.5088387</td>\n",
       "      <td>-34.661824</td>\n",
       "      <td>...</td>\n",
       "      <td>40.0</td>\n",
       "      <td>1127.272727</td>\n",
       "      <td>1550.000000</td>\n",
       "      <td>NaN</td>\n",
       "      <td>NaN</td>\n",
       "      <td>NaN</td>\n",
       "      <td>http://www.properati.com.ar/15bo8_venta_ph_mat...</td>\n",
       "      <td>2 AMBIENTES TIPO CASA PLANTA BAJA POR PASILLO,...</td>\n",
       "      <td>2 AMB TIPO CASA SIN EXPENSAS EN PB</td>\n",
       "      <td>https://thumbs4.properati.com/8/BluUYiHJLhgIIK...</td>\n",
       "    </tr>\n",
       "    <tr>\n",
       "      <th>1</th>\n",
       "      <td>1</td>\n",
       "      <td>sell</td>\n",
       "      <td>apartment</td>\n",
       "      <td>La Plata</td>\n",
       "      <td>|Argentina|Bs.As. G.B.A. Zona Sur|La Plata|</td>\n",
       "      <td>Argentina</td>\n",
       "      <td>Bs.As. G.B.A. Zona Sur</td>\n",
       "      <td>3432039.0</td>\n",
       "      <td>-34.9038831,-57.9643295</td>\n",
       "      <td>-34.903883</td>\n",
       "      <td>...</td>\n",
       "      <td>NaN</td>\n",
       "      <td>NaN</td>\n",
       "      <td>NaN</td>\n",
       "      <td>NaN</td>\n",
       "      <td>NaN</td>\n",
       "      <td>NaN</td>\n",
       "      <td>http://www.properati.com.ar/15bob_venta_depart...</td>\n",
       "      <td>Venta de departamento en décimo piso al frente...</td>\n",
       "      <td>VENTA Depto 2 dorm. a estrenar 7 e/ 36 y 37   ...</td>\n",
       "      <td>https://thumbs4.properati.com/7/ikpVBu2ztHA7jv...</td>\n",
       "    </tr>\n",
       "    <tr>\n",
       "      <th>2</th>\n",
       "      <td>2</td>\n",
       "      <td>sell</td>\n",
       "      <td>apartment</td>\n",
       "      <td>Mataderos</td>\n",
       "      <td>|Argentina|Capital Federal|Mataderos|</td>\n",
       "      <td>Argentina</td>\n",
       "      <td>Capital Federal</td>\n",
       "      <td>3430787.0</td>\n",
       "      <td>-34.6522615,-58.5229825</td>\n",
       "      <td>-34.652262</td>\n",
       "      <td>...</td>\n",
       "      <td>55.0</td>\n",
       "      <td>1309.090909</td>\n",
       "      <td>1309.090909</td>\n",
       "      <td>NaN</td>\n",
       "      <td>NaN</td>\n",
       "      <td>NaN</td>\n",
       "      <td>http://www.properati.com.ar/15bod_venta_depart...</td>\n",
       "      <td>2 AMBIENTES 3ER PISO LATERAL LIVING COMEDOR AM...</td>\n",
       "      <td>2 AMB 3ER PISO CON ASCENSOR APTO CREDITO</td>\n",
       "      <td>https://thumbs4.properati.com/5/SXKr34F_IwG3W_...</td>\n",
       "    </tr>\n",
       "    <tr>\n",
       "      <th>3</th>\n",
       "      <td>3</td>\n",
       "      <td>sell</td>\n",
       "      <td>PH</td>\n",
       "      <td>Liniers</td>\n",
       "      <td>|Argentina|Capital Federal|Liniers|</td>\n",
       "      <td>Argentina</td>\n",
       "      <td>Capital Federal</td>\n",
       "      <td>3431333.0</td>\n",
       "      <td>-34.6477969,-58.5164244</td>\n",
       "      <td>-34.647797</td>\n",
       "      <td>...</td>\n",
       "      <td>NaN</td>\n",
       "      <td>NaN</td>\n",
       "      <td>NaN</td>\n",
       "      <td>NaN</td>\n",
       "      <td>NaN</td>\n",
       "      <td>NaN</td>\n",
       "      <td>http://www.properati.com.ar/15boh_venta_ph_lin...</td>\n",
       "      <td>PH 3 ambientes con patio. Hay 3 deptos en lote...</td>\n",
       "      <td>PH 3 amb. cfte. reciclado</td>\n",
       "      <td>https://thumbs4.properati.com/3/DgIfX-85Mog5SP...</td>\n",
       "    </tr>\n",
       "    <tr>\n",
       "      <th>4</th>\n",
       "      <td>4</td>\n",
       "      <td>sell</td>\n",
       "      <td>apartment</td>\n",
       "      <td>Centro</td>\n",
       "      <td>|Argentina|Buenos Aires Costa Atlántica|Mar de...</td>\n",
       "      <td>Argentina</td>\n",
       "      <td>Buenos Aires Costa Atlántica</td>\n",
       "      <td>3435548.0</td>\n",
       "      <td>-38.0026256,-57.5494468</td>\n",
       "      <td>-38.002626</td>\n",
       "      <td>...</td>\n",
       "      <td>35.0</td>\n",
       "      <td>1828.571429</td>\n",
       "      <td>1828.571429</td>\n",
       "      <td>NaN</td>\n",
       "      <td>NaN</td>\n",
       "      <td>NaN</td>\n",
       "      <td>http://www.properati.com.ar/15bok_venta_depart...</td>\n",
       "      <td>DEPARTAMENTO CON FANTÁSTICA ILUMINACIÓN NATURA...</td>\n",
       "      <td>DEPTO 2 AMB AL CONTRAFRENTE ZONA CENTRO/PLAZA ...</td>\n",
       "      <td>https://thumbs4.properati.com/5/xrRqlNcSI_vs-f...</td>\n",
       "    </tr>\n",
       "  </tbody>\n",
       "</table>\n",
       "<p>5 rows × 26 columns</p>\n",
       "</div>"
      ],
      "text/plain": [
       "   Unnamed: 0 operation property_type place_name  \\\n",
       "0           0      sell            PH  Mataderos   \n",
       "1           1      sell     apartment   La Plata   \n",
       "2           2      sell     apartment  Mataderos   \n",
       "3           3      sell            PH    Liniers   \n",
       "4           4      sell     apartment     Centro   \n",
       "\n",
       "                             place_with_parent_names country_name  \\\n",
       "0              |Argentina|Capital Federal|Mataderos|    Argentina   \n",
       "1        |Argentina|Bs.As. G.B.A. Zona Sur|La Plata|    Argentina   \n",
       "2              |Argentina|Capital Federal|Mataderos|    Argentina   \n",
       "3                |Argentina|Capital Federal|Liniers|    Argentina   \n",
       "4  |Argentina|Buenos Aires Costa Atlántica|Mar de...    Argentina   \n",
       "\n",
       "                     state_name  geonames_id                  lat-lon  \\\n",
       "0               Capital Federal    3430787.0  -34.6618237,-58.5088387   \n",
       "1        Bs.As. G.B.A. Zona Sur    3432039.0  -34.9038831,-57.9643295   \n",
       "2               Capital Federal    3430787.0  -34.6522615,-58.5229825   \n",
       "3               Capital Federal    3431333.0  -34.6477969,-58.5164244   \n",
       "4  Buenos Aires Costa Atlántica    3435548.0  -38.0026256,-57.5494468   \n",
       "\n",
       "         lat                        ...                          \\\n",
       "0 -34.661824                        ...                           \n",
       "1 -34.903883                        ...                           \n",
       "2 -34.652262                        ...                           \n",
       "3 -34.647797                        ...                           \n",
       "4 -38.002626                        ...                           \n",
       "\n",
       "   surface_covered_in_m2  price_usd_per_m2 price_per_m2  floor  rooms  \\\n",
       "0                   40.0       1127.272727  1550.000000    NaN    NaN   \n",
       "1                    NaN               NaN          NaN    NaN    NaN   \n",
       "2                   55.0       1309.090909  1309.090909    NaN    NaN   \n",
       "3                    NaN               NaN          NaN    NaN    NaN   \n",
       "4                   35.0       1828.571429  1828.571429    NaN    NaN   \n",
       "\n",
       "   expenses                                      properati_url  \\\n",
       "0       NaN  http://www.properati.com.ar/15bo8_venta_ph_mat...   \n",
       "1       NaN  http://www.properati.com.ar/15bob_venta_depart...   \n",
       "2       NaN  http://www.properati.com.ar/15bod_venta_depart...   \n",
       "3       NaN  http://www.properati.com.ar/15boh_venta_ph_lin...   \n",
       "4       NaN  http://www.properati.com.ar/15bok_venta_depart...   \n",
       "\n",
       "                                         description  \\\n",
       "0  2 AMBIENTES TIPO CASA PLANTA BAJA POR PASILLO,...   \n",
       "1  Venta de departamento en décimo piso al frente...   \n",
       "2  2 AMBIENTES 3ER PISO LATERAL LIVING COMEDOR AM...   \n",
       "3  PH 3 ambientes con patio. Hay 3 deptos en lote...   \n",
       "4  DEPARTAMENTO CON FANTÁSTICA ILUMINACIÓN NATURA...   \n",
       "\n",
       "                                               title  \\\n",
       "0                 2 AMB TIPO CASA SIN EXPENSAS EN PB   \n",
       "1  VENTA Depto 2 dorm. a estrenar 7 e/ 36 y 37   ...   \n",
       "2           2 AMB 3ER PISO CON ASCENSOR APTO CREDITO   \n",
       "3                       PH 3 amb. cfte. reciclado      \n",
       "4  DEPTO 2 AMB AL CONTRAFRENTE ZONA CENTRO/PLAZA ...   \n",
       "\n",
       "                                     image_thumbnail  \n",
       "0  https://thumbs4.properati.com/8/BluUYiHJLhgIIK...  \n",
       "1  https://thumbs4.properati.com/7/ikpVBu2ztHA7jv...  \n",
       "2  https://thumbs4.properati.com/5/SXKr34F_IwG3W_...  \n",
       "3  https://thumbs4.properati.com/3/DgIfX-85Mog5SP...  \n",
       "4  https://thumbs4.properati.com/5/xrRqlNcSI_vs-f...  \n",
       "\n",
       "[5 rows x 26 columns]"
      ]
     },
     "execution_count": 3,
     "metadata": {},
     "output_type": "execute_result"
    }
   ],
   "source": [
    "df.head()"
   ]
  },
  {
   "cell_type": "markdown",
   "metadata": {
    "slideshow": {
     "slide_type": "subslide"
    }
   },
   "source": [
    "# Limpiar el dataset\n",
    "Practiquemos nuestras capacidades para realizar limpieza de datos con el dataset de ventas de propiedades de Properatti. Si no recuerdan cómo hacer alguna de estas tareas, busquen en Internet o en clases anteriores de manipulación de datos.\n",
    "\n",
    "Buscamos que completen las siguientes tareas:\n",
    "* Quitar columnas redundantes\n",
    "* Convertir las variables categóricas numéricas a integer\n",
    "* Lidiar con los valores perdidos y/o erróneos en algunas variables clave: \n",
    "\n",
    "    + en este punto podría ser interesante realizar algo ligeramente más complejo que un simple rellenado en función de medias. Podría eventualmente imputar en función de medias condicionadas.\n",
    "        * por ejemplo, los campos `lat` y `long` tienen, también, muchos casos perdidos. Quizás una estrategia posible sería tratar de imputar las coordenadas con la media de los casos en el mismo `place_name` -barrio-.\n",
    "    + también podrían evaluar la posibilidad de extraer alguna información para completar los datos perdidos del campo \"description\" que contiene texto del aviso. \n",
    "        * por ejemplo, el campo `rooms` tiene una altísima cantidad de missing. Podrían intentar usando alguna expresión regex extraer información "
   ]
  },
  {
   "cell_type": "code",
   "execution_count": 4,
   "metadata": {},
   "outputs": [],
   "source": [
    "dfFiltrado = df[(df['state_name'] == 'Capital Federal') & ((df['place_name'] == 'Barrio Norte') | (df['place_name'] == 'Recoleta') )]\n",
    "dfFiltrado.columns = ['indice', 'operacion', 'tipo_propiedad', 'barrio',\n",
    "       'resumen_zona', 'pais', 'provincia', 'geonames_id',\n",
    "       'latitud_longitud', 'latitud', 'longitud', 'precio', 'moneda',\n",
    "       'precio_pesos', 'precio_usd', 'superficie_m2',\n",
    "       'superficie_cubierta', 'precio_usd_m2', 'precio_m2', 'piso',\n",
    "       'habitaciones', 'expensas', 'properati_url', 'descripcion', 'titulo',\n",
    "       'imagen']"
   ]
  },
  {
   "cell_type": "code",
   "execution_count": 5,
   "metadata": {},
   "outputs": [],
   "source": [
    "dfFiltrado = dfFiltrado[dfFiltrado['tipo_propiedad'] == 'apartment']"
   ]
  },
  {
   "cell_type": "code",
   "execution_count": 6,
   "metadata": {
    "slideshow": {
     "slide_type": "skip"
    }
   },
   "outputs": [],
   "source": [
    "dfFiltrado = dfFiltrado[['barrio',\n",
    "       'geonames_id',\n",
    "       'latitud', 'longitud', 'precio', 'moneda',\n",
    "       'precio_pesos', 'precio_usd', 'superficie_m2',\n",
    "       'superficie_cubierta', 'precio_usd_m2', 'precio_m2', 'piso',\n",
    "       'habitaciones', 'expensas', 'properati_url', 'descripcion', 'titulo',\n",
    "       'imagen']]"
   ]
  },
  {
   "cell_type": "code",
   "execution_count": 7,
   "metadata": {},
   "outputs": [],
   "source": [
    "cambio = 17.6445\n",
    "valoresSinPrecio = dfFiltrado[dfFiltrado['precio_usd'].isnull()]"
   ]
  },
  {
   "cell_type": "code",
   "execution_count": 8,
   "metadata": {},
   "outputs": [
    {
     "data": {
      "text/plain": [
       "(2500, 19)"
      ]
     },
     "execution_count": 8,
     "metadata": {},
     "output_type": "execute_result"
    }
   ],
   "source": [
    "dfFiltrado.shape"
   ]
  },
  {
   "cell_type": "code",
   "execution_count": 9,
   "metadata": {},
   "outputs": [],
   "source": [
    "dfFiltrado = dfFiltrado[~dfFiltrado['precio_usd'].isnull()]"
   ]
  },
  {
   "cell_type": "code",
   "execution_count": 10,
   "metadata": {},
   "outputs": [],
   "source": [
    "dfFiltrado = dfFiltrado[ dfFiltrado['precio_m2'] >= dfFiltrado['precio_usd_m2']]"
   ]
  },
  {
   "cell_type": "code",
   "execution_count": 11,
   "metadata": {},
   "outputs": [
    {
     "data": {
      "text/html": [
       "<div>\n",
       "<style scoped>\n",
       "    .dataframe tbody tr th:only-of-type {\n",
       "        vertical-align: middle;\n",
       "    }\n",
       "\n",
       "    .dataframe tbody tr th {\n",
       "        vertical-align: top;\n",
       "    }\n",
       "\n",
       "    .dataframe thead th {\n",
       "        text-align: right;\n",
       "    }\n",
       "</style>\n",
       "<table border=\"1\" class=\"dataframe\">\n",
       "  <thead>\n",
       "    <tr style=\"text-align: right;\">\n",
       "      <th></th>\n",
       "      <th>barrio</th>\n",
       "      <th>geonames_id</th>\n",
       "      <th>latitud</th>\n",
       "      <th>longitud</th>\n",
       "      <th>precio</th>\n",
       "      <th>moneda</th>\n",
       "      <th>precio_pesos</th>\n",
       "      <th>precio_usd</th>\n",
       "      <th>superficie_m2</th>\n",
       "      <th>superficie_cubierta</th>\n",
       "      <th>precio_usd_m2</th>\n",
       "      <th>precio_m2</th>\n",
       "      <th>piso</th>\n",
       "      <th>habitaciones</th>\n",
       "      <th>expensas</th>\n",
       "      <th>properati_url</th>\n",
       "      <th>descripcion</th>\n",
       "      <th>titulo</th>\n",
       "      <th>imagen</th>\n",
       "    </tr>\n",
       "  </thead>\n",
       "  <tbody>\n",
       "  </tbody>\n",
       "</table>\n",
       "</div>"
      ],
      "text/plain": [
       "Empty DataFrame\n",
       "Columns: [barrio, geonames_id, latitud, longitud, precio, moneda, precio_pesos, precio_usd, superficie_m2, superficie_cubierta, precio_usd_m2, precio_m2, piso, habitaciones, expensas, properati_url, descripcion, titulo, imagen]\n",
       "Index: []"
      ]
     },
     "execution_count": 11,
     "metadata": {},
     "output_type": "execute_result"
    }
   ],
   "source": [
    "dfFiltrado[dfFiltrado['precio_m2'] < dfFiltrado['precio_usd_m2']]"
   ]
  },
  {
   "cell_type": "code",
   "execution_count": 12,
   "metadata": {},
   "outputs": [
    {
     "data": {
      "text/html": [
       "<div>\n",
       "<style scoped>\n",
       "    .dataframe tbody tr th:only-of-type {\n",
       "        vertical-align: middle;\n",
       "    }\n",
       "\n",
       "    .dataframe tbody tr th {\n",
       "        vertical-align: top;\n",
       "    }\n",
       "\n",
       "    .dataframe thead th {\n",
       "        text-align: right;\n",
       "    }\n",
       "</style>\n",
       "<table border=\"1\" class=\"dataframe\">\n",
       "  <thead>\n",
       "    <tr style=\"text-align: right;\">\n",
       "      <th></th>\n",
       "      <th>barrio</th>\n",
       "      <th>geonames_id</th>\n",
       "      <th>latitud</th>\n",
       "      <th>longitud</th>\n",
       "      <th>precio</th>\n",
       "      <th>moneda</th>\n",
       "      <th>precio_pesos</th>\n",
       "      <th>precio_usd</th>\n",
       "      <th>superficie_m2</th>\n",
       "      <th>superficie_cubierta</th>\n",
       "      <th>precio_usd_m2</th>\n",
       "      <th>precio_m2</th>\n",
       "      <th>piso</th>\n",
       "      <th>habitaciones</th>\n",
       "      <th>expensas</th>\n",
       "      <th>properati_url</th>\n",
       "      <th>descripcion</th>\n",
       "      <th>titulo</th>\n",
       "      <th>imagen</th>\n",
       "    </tr>\n",
       "  </thead>\n",
       "  <tbody>\n",
       "    <tr>\n",
       "      <th>44035</th>\n",
       "      <td>Recoleta</td>\n",
       "      <td>3429595.0</td>\n",
       "      <td>-34.592608</td>\n",
       "      <td>-58.410879</td>\n",
       "      <td>1568100.0</td>\n",
       "      <td>ARS</td>\n",
       "      <td>1551742.20</td>\n",
       "      <td>87944.81</td>\n",
       "      <td>36.0</td>\n",
       "      <td>31.0</td>\n",
       "      <td>2442.911389</td>\n",
       "      <td>50583.870968</td>\n",
       "      <td>NaN</td>\n",
       "      <td>1.0</td>\n",
       "      <td>NaN</td>\n",
       "      <td>http://www.properati.com.ar/18zkn_venta_depart...</td>\n",
       "      <td>1 AMBIENTE CON BALCÓN - BAÑO COMPLETO - COCINA...</td>\n",
       "      <td>1 Ambiente con Balcón</td>\n",
       "      <td>https://thumbs4.properati.com/9/-jVn9mTvFU9Mh8...</td>\n",
       "    </tr>\n",
       "    <tr>\n",
       "      <th>44038</th>\n",
       "      <td>Recoleta</td>\n",
       "      <td>3429595.0</td>\n",
       "      <td>-34.592608</td>\n",
       "      <td>-58.410879</td>\n",
       "      <td>1340900.0</td>\n",
       "      <td>ARS</td>\n",
       "      <td>1326912.27</td>\n",
       "      <td>75202.60</td>\n",
       "      <td>37.0</td>\n",
       "      <td>25.0</td>\n",
       "      <td>2032.502703</td>\n",
       "      <td>53636.000000</td>\n",
       "      <td>NaN</td>\n",
       "      <td>1.0</td>\n",
       "      <td>NaN</td>\n",
       "      <td>http://www.properati.com.ar/18zl0_venta_depart...</td>\n",
       "      <td>1 AMBIENTE CON BALCÓN - BAÑO COMPLETO - COCINA...</td>\n",
       "      <td>1 Ambiente con Balcón</td>\n",
       "      <td>https://thumbs4.properati.com/5/v7dPVfTVh64Di-...</td>\n",
       "    </tr>\n",
       "    <tr>\n",
       "      <th>44040</th>\n",
       "      <td>Recoleta</td>\n",
       "      <td>3429595.0</td>\n",
       "      <td>-34.592608</td>\n",
       "      <td>-58.410879</td>\n",
       "      <td>2657600.0</td>\n",
       "      <td>ARS</td>\n",
       "      <td>2629876.90</td>\n",
       "      <td>149047.97</td>\n",
       "      <td>82.0</td>\n",
       "      <td>47.0</td>\n",
       "      <td>1817.658171</td>\n",
       "      <td>56544.680851</td>\n",
       "      <td>NaN</td>\n",
       "      <td>2.0</td>\n",
       "      <td>NaN</td>\n",
       "      <td>http://www.properati.com.ar/18zl4_venta_depart...</td>\n",
       "      <td>2 AMBIENTES CON BALCÓN TERRAZA AL FRENTE - BAÑ...</td>\n",
       "      <td>2 Ambientes con Balcón Terraza al Frente</td>\n",
       "      <td>https://thumbs4.properati.com/4/n278jXgCPlISfa...</td>\n",
       "    </tr>\n",
       "    <tr>\n",
       "      <th>44043</th>\n",
       "      <td>Recoleta</td>\n",
       "      <td>3429595.0</td>\n",
       "      <td>-34.592608</td>\n",
       "      <td>-58.410879</td>\n",
       "      <td>2514100.0</td>\n",
       "      <td>ARS</td>\n",
       "      <td>2487873.97</td>\n",
       "      <td>140999.97</td>\n",
       "      <td>53.0</td>\n",
       "      <td>47.0</td>\n",
       "      <td>2660.376792</td>\n",
       "      <td>53491.489362</td>\n",
       "      <td>NaN</td>\n",
       "      <td>2.0</td>\n",
       "      <td>NaN</td>\n",
       "      <td>http://www.properati.com.ar/18zl8_venta_depart...</td>\n",
       "      <td>2 AMBIENTES CON BALCÓN AL FRENTE - BAÑO COMPLE...</td>\n",
       "      <td>2 Ambientes con Balcón al Frente</td>\n",
       "      <td>https://thumbs4.properati.com/4/XXDdfmKL7hOoW7...</td>\n",
       "    </tr>\n",
       "    <tr>\n",
       "      <th>44044</th>\n",
       "      <td>Recoleta</td>\n",
       "      <td>3429595.0</td>\n",
       "      <td>-34.592608</td>\n",
       "      <td>-58.410879</td>\n",
       "      <td>3198900.0</td>\n",
       "      <td>ARS</td>\n",
       "      <td>3165530.40</td>\n",
       "      <td>179406.07</td>\n",
       "      <td>95.0</td>\n",
       "      <td>47.0</td>\n",
       "      <td>1888.484947</td>\n",
       "      <td>68061.702128</td>\n",
       "      <td>NaN</td>\n",
       "      <td>2.0</td>\n",
       "      <td>NaN</td>\n",
       "      <td>http://www.properati.com.ar/18zla_venta_depart...</td>\n",
       "      <td>2 AMBIENTES AL FRENTE CON TERRAZA EXCLUSIVA - ...</td>\n",
       "      <td>2 Ambientes al Frente con Terraza Exclusiva</td>\n",
       "      <td>https://thumbs4.properati.com/8/C8LsLcWjzmbQUA...</td>\n",
       "    </tr>\n",
       "    <tr>\n",
       "      <th>44045</th>\n",
       "      <td>Recoleta</td>\n",
       "      <td>3429595.0</td>\n",
       "      <td>-34.592608</td>\n",
       "      <td>-58.410879</td>\n",
       "      <td>1845000.0</td>\n",
       "      <td>ARS</td>\n",
       "      <td>1825753.69</td>\n",
       "      <td>103474.38</td>\n",
       "      <td>56.0</td>\n",
       "      <td>26.0</td>\n",
       "      <td>1847.756786</td>\n",
       "      <td>70961.538462</td>\n",
       "      <td>NaN</td>\n",
       "      <td>1.0</td>\n",
       "      <td>NaN</td>\n",
       "      <td>http://www.properati.com.ar/18zlb_venta_depart...</td>\n",
       "      <td>1 AMBIENTE AL CONTRAFRENTE CON TERRAZA EXCLUSI...</td>\n",
       "      <td>1 Ambiente al Contrafrente con Terraza Exclusiva</td>\n",
       "      <td>https://thumbs4.properati.com/8/14iYmvuZ_V3wpL...</td>\n",
       "    </tr>\n",
       "    <tr>\n",
       "      <th>44664</th>\n",
       "      <td>Recoleta</td>\n",
       "      <td>3429595.0</td>\n",
       "      <td>-34.601159</td>\n",
       "      <td>-58.398106</td>\n",
       "      <td>1600537.0</td>\n",
       "      <td>ARS</td>\n",
       "      <td>1583840.72</td>\n",
       "      <td>89763.99</td>\n",
       "      <td>60.0</td>\n",
       "      <td>30.0</td>\n",
       "      <td>1496.066500</td>\n",
       "      <td>53351.233333</td>\n",
       "      <td>NaN</td>\n",
       "      <td>1.0</td>\n",
       "      <td>NaN</td>\n",
       "      <td>http://www.properati.com.ar/19112_venta_depart...</td>\n",
       "      <td>1 AMBIENTE CON PATIO AL CONTRAFRENTE - BAÑO CO...</td>\n",
       "      <td>1 Ambiente con Patio al Contrafrente</td>\n",
       "      <td>https://thumbs4.properati.com/3/NsxpshxmG7wacP...</td>\n",
       "    </tr>\n",
       "    <tr>\n",
       "      <th>44665</th>\n",
       "      <td>Recoleta</td>\n",
       "      <td>3429595.0</td>\n",
       "      <td>-34.601159</td>\n",
       "      <td>-58.398106</td>\n",
       "      <td>1492026.0</td>\n",
       "      <td>ARS</td>\n",
       "      <td>1476461.76</td>\n",
       "      <td>83678.30</td>\n",
       "      <td>57.0</td>\n",
       "      <td>27.0</td>\n",
       "      <td>1468.040351</td>\n",
       "      <td>55260.222222</td>\n",
       "      <td>NaN</td>\n",
       "      <td>1.0</td>\n",
       "      <td>NaN</td>\n",
       "      <td>http://www.properati.com.ar/19117_venta_depart...</td>\n",
       "      <td>1 AMBIENTE CON PATIO AL CONTRAFRENTE - BAÑO CO...</td>\n",
       "      <td>1 Ambiente con Patio al Contrafrente</td>\n",
       "      <td>https://thumbs4.properati.com/9/EZwlKngJ19NCaI...</td>\n",
       "    </tr>\n",
       "    <tr>\n",
       "      <th>44666</th>\n",
       "      <td>Recoleta</td>\n",
       "      <td>3429595.0</td>\n",
       "      <td>-34.601159</td>\n",
       "      <td>-58.398106</td>\n",
       "      <td>2218764.0</td>\n",
       "      <td>ARS</td>\n",
       "      <td>2195618.76</td>\n",
       "      <td>124436.44</td>\n",
       "      <td>51.0</td>\n",
       "      <td>42.0</td>\n",
       "      <td>2439.930196</td>\n",
       "      <td>52827.714286</td>\n",
       "      <td>NaN</td>\n",
       "      <td>2.0</td>\n",
       "      <td>NaN</td>\n",
       "      <td>http://www.properati.com.ar/1911a_venta_depart...</td>\n",
       "      <td>1 AMBIENTE CON PATIO AL CONTRAFRENTE - BAÑO CO...</td>\n",
       "      <td>2 Ambientes con Balcón al Frente</td>\n",
       "      <td>https://thumbs4.properati.com/5/N4649fSUBNMqvN...</td>\n",
       "    </tr>\n",
       "    <tr>\n",
       "      <th>44669</th>\n",
       "      <td>Recoleta</td>\n",
       "      <td>3429595.0</td>\n",
       "      <td>-34.601159</td>\n",
       "      <td>-58.398106</td>\n",
       "      <td>2313180.0</td>\n",
       "      <td>ARS</td>\n",
       "      <td>2289049.74</td>\n",
       "      <td>129731.63</td>\n",
       "      <td>51.0</td>\n",
       "      <td>42.0</td>\n",
       "      <td>2543.757451</td>\n",
       "      <td>55075.714286</td>\n",
       "      <td>NaN</td>\n",
       "      <td>2.0</td>\n",
       "      <td>NaN</td>\n",
       "      <td>http://www.properati.com.ar/1911e_venta_depart...</td>\n",
       "      <td>1 AMBIENTE CON PATIO AL CONTRAFRENTE - BAÑO CO...</td>\n",
       "      <td>2 Ambientes con Balcón al Frente</td>\n",
       "      <td>https://thumbs4.properati.com/4/Mp6ComWGKTKJTq...</td>\n",
       "    </tr>\n",
       "    <tr>\n",
       "      <th>44670</th>\n",
       "      <td>Recoleta</td>\n",
       "      <td>3429595.0</td>\n",
       "      <td>-34.601159</td>\n",
       "      <td>-58.398106</td>\n",
       "      <td>1414106.0</td>\n",
       "      <td>ARS</td>\n",
       "      <td>1399354.59</td>\n",
       "      <td>79308.26</td>\n",
       "      <td>34.0</td>\n",
       "      <td>30.0</td>\n",
       "      <td>2332.595882</td>\n",
       "      <td>47136.866667</td>\n",
       "      <td>NaN</td>\n",
       "      <td>1.0</td>\n",
       "      <td>NaN</td>\n",
       "      <td>http://www.properati.com.ar/1911f_venta_depart...</td>\n",
       "      <td>1 AMBIENTE CON BALCÓN AL CONTRAFRENTE - BAÑO C...</td>\n",
       "      <td>1 Ambiente con Balcón al Contrafrente</td>\n",
       "      <td>https://thumbs4.properati.com/9/TACfs8clv-UXSV...</td>\n",
       "    </tr>\n",
       "    <tr>\n",
       "      <th>44672</th>\n",
       "      <td>Recoleta</td>\n",
       "      <td>3429595.0</td>\n",
       "      <td>-34.601159</td>\n",
       "      <td>-58.398106</td>\n",
       "      <td>1300977.0</td>\n",
       "      <td>ARS</td>\n",
       "      <td>1287405.71</td>\n",
       "      <td>72963.57</td>\n",
       "      <td>31.0</td>\n",
       "      <td>27.0</td>\n",
       "      <td>2353.663548</td>\n",
       "      <td>48184.333333</td>\n",
       "      <td>NaN</td>\n",
       "      <td>1.0</td>\n",
       "      <td>NaN</td>\n",
       "      <td>http://www.properati.com.ar/1911i_venta_depart...</td>\n",
       "      <td>1 AMBIENTE CON BALCÓN AL CONTRAFRENTE - BAÑO C...</td>\n",
       "      <td>1 Ambiente con Balcón al Contrafrente</td>\n",
       "      <td>https://thumbs4.properati.com/5/zxKQoZI9gZLvGP...</td>\n",
       "    </tr>\n",
       "    <tr>\n",
       "      <th>44673</th>\n",
       "      <td>Recoleta</td>\n",
       "      <td>3429595.0</td>\n",
       "      <td>-34.601159</td>\n",
       "      <td>-58.398106</td>\n",
       "      <td>1471825.0</td>\n",
       "      <td>ARS</td>\n",
       "      <td>1456471.42</td>\n",
       "      <td>82545.35</td>\n",
       "      <td>34.0</td>\n",
       "      <td>30.0</td>\n",
       "      <td>2427.804412</td>\n",
       "      <td>49060.833333</td>\n",
       "      <td>NaN</td>\n",
       "      <td>1.0</td>\n",
       "      <td>NaN</td>\n",
       "      <td>http://www.properati.com.ar/1911k_venta_depart...</td>\n",
       "      <td>1 AMBIENTE CON BALCÓN AL CONTRAFRENTE - BAÑO C...</td>\n",
       "      <td>1 Ambiente con Balcón al Contrafrente</td>\n",
       "      <td>https://thumbs4.properati.com/8/Ecl6jSfEZu083J...</td>\n",
       "    </tr>\n",
       "    <tr>\n",
       "      <th>44674</th>\n",
       "      <td>Recoleta</td>\n",
       "      <td>3429595.0</td>\n",
       "      <td>-34.601159</td>\n",
       "      <td>-58.398106</td>\n",
       "      <td>1354079.0</td>\n",
       "      <td>ARS</td>\n",
       "      <td>1339953.67</td>\n",
       "      <td>75941.72</td>\n",
       "      <td>31.0</td>\n",
       "      <td>27.0</td>\n",
       "      <td>2449.732903</td>\n",
       "      <td>50151.074074</td>\n",
       "      <td>NaN</td>\n",
       "      <td>1.0</td>\n",
       "      <td>NaN</td>\n",
       "      <td>http://www.properati.com.ar/1911l_venta_depart...</td>\n",
       "      <td>1 AMBIENTE CON BALCÓN AL CONTRAFRENTE - BAÑO C...</td>\n",
       "      <td>1 Ambiente con Balcón al Contrafrente</td>\n",
       "      <td>https://thumbs4.properati.com/5/bM-GWIg2Xm6NAR...</td>\n",
       "    </tr>\n",
       "    <tr>\n",
       "      <th>45761</th>\n",
       "      <td>Recoleta</td>\n",
       "      <td>3429595.0</td>\n",
       "      <td>-34.602279</td>\n",
       "      <td>-58.397065</td>\n",
       "      <td>1541800.0</td>\n",
       "      <td>ARS</td>\n",
       "      <td>1586903.63</td>\n",
       "      <td>89937.58</td>\n",
       "      <td>335.0</td>\n",
       "      <td>305.0</td>\n",
       "      <td>268.470388</td>\n",
       "      <td>5055.081967</td>\n",
       "      <td>4.0</td>\n",
       "      <td>NaN</td>\n",
       "      <td>NaN</td>\n",
       "      <td>http://www.properati.com.ar/194ur_venta_depart...</td>\n",
       "      <td>Estudios JuninModernas Unidades aptas profesio...</td>\n",
       "      <td>Departamento 335m² con Plantas en Junin 600, C...</td>\n",
       "      <td>https://thumbs4.properati.com/6/qhjvLl0WzSPNvz...</td>\n",
       "    </tr>\n",
       "    <tr>\n",
       "      <th>45767</th>\n",
       "      <td>Recoleta</td>\n",
       "      <td>3429595.0</td>\n",
       "      <td>-34.601044</td>\n",
       "      <td>-58.396992</td>\n",
       "      <td>1300977.0</td>\n",
       "      <td>ARS</td>\n",
       "      <td>1339035.63</td>\n",
       "      <td>75889.69</td>\n",
       "      <td>305.0</td>\n",
       "      <td>27.0</td>\n",
       "      <td>248.818656</td>\n",
       "      <td>48184.333333</td>\n",
       "      <td>3.0</td>\n",
       "      <td>NaN</td>\n",
       "      <td>NaN</td>\n",
       "      <td>http://www.properati.com.ar/194ux_venta_depart...</td>\n",
       "      <td>El edificio se emplaza en una zona de gran con...</td>\n",
       "      <td>Departamento 305m² con Plantas en Viamonte 210...</td>\n",
       "      <td>https://thumbs4.properati.com/4/ZnZ53baMMpM-K3...</td>\n",
       "    </tr>\n",
       "    <tr>\n",
       "      <th>45769</th>\n",
       "      <td>Recoleta</td>\n",
       "      <td>3429595.0</td>\n",
       "      <td>-34.602279</td>\n",
       "      <td>-58.397065</td>\n",
       "      <td>1541800.0</td>\n",
       "      <td>ARS</td>\n",
       "      <td>1586903.63</td>\n",
       "      <td>89937.58</td>\n",
       "      <td>335.0</td>\n",
       "      <td>305.0</td>\n",
       "      <td>268.470388</td>\n",
       "      <td>5055.081967</td>\n",
       "      <td>4.0</td>\n",
       "      <td>NaN</td>\n",
       "      <td>NaN</td>\n",
       "      <td>http://www.properati.com.ar/194uz_venta_depart...</td>\n",
       "      <td>Modernas unidades aptas profesionales. Espacio...</td>\n",
       "      <td>Departamento 335m² con Plantas en Junin 600, C...</td>\n",
       "      <td>https://thumbs4.properati.com/3/UafpA7JLzGhmdN...</td>\n",
       "    </tr>\n",
       "    <tr>\n",
       "      <th>51602</th>\n",
       "      <td>Barrio Norte</td>\n",
       "      <td>3436109.0</td>\n",
       "      <td>-34.596178</td>\n",
       "      <td>-58.400029</td>\n",
       "      <td>97000.0</td>\n",
       "      <td>ARS</td>\n",
       "      <td>95988.02</td>\n",
       "      <td>5440.11</td>\n",
       "      <td>45.0</td>\n",
       "      <td>45.0</td>\n",
       "      <td>120.891333</td>\n",
       "      <td>2155.555556</td>\n",
       "      <td>NaN</td>\n",
       "      <td>2.0</td>\n",
       "      <td>NaN</td>\n",
       "      <td>http://www.properati.com.ar/19hd8_venta_depart...</td>\n",
       "      <td>2 ambientes amplios, Living comedor, dormitori...</td>\n",
       "      <td>2 Ambientes amplios 45 metros AZCUENAGA Y SANT...</td>\n",
       "      <td>https://thumbs4.properati.com/5/mqk_SKfVPLcOBz...</td>\n",
       "    </tr>\n",
       "    <tr>\n",
       "      <th>54958</th>\n",
       "      <td>Recoleta</td>\n",
       "      <td>3429595.0</td>\n",
       "      <td>-34.588410</td>\n",
       "      <td>-58.391819</td>\n",
       "      <td>2715606.0</td>\n",
       "      <td>ARS</td>\n",
       "      <td>2687277.81</td>\n",
       "      <td>152301.16</td>\n",
       "      <td>43.0</td>\n",
       "      <td>40.0</td>\n",
       "      <td>3541.887442</td>\n",
       "      <td>67890.150000</td>\n",
       "      <td>NaN</td>\n",
       "      <td>1.0</td>\n",
       "      <td>NaN</td>\n",
       "      <td>http://www.properati.com.ar/19o48_venta_depart...</td>\n",
       "      <td>DECÓ RECOLETA By Armani, uno de los proyectos ...</td>\n",
       "      <td>En Venta - Proyecto Lola - Recoleta</td>\n",
       "      <td>https://thumbs4.properati.com/5/oaK3lvAzX1O4oA...</td>\n",
       "    </tr>\n",
       "    <tr>\n",
       "      <th>55356</th>\n",
       "      <td>Barrio Norte</td>\n",
       "      <td>3436109.0</td>\n",
       "      <td>-34.589546</td>\n",
       "      <td>-58.397364</td>\n",
       "      <td>1541800.0</td>\n",
       "      <td>ARS</td>\n",
       "      <td>1525716.56</td>\n",
       "      <td>86469.81</td>\n",
       "      <td>34.0</td>\n",
       "      <td>31.0</td>\n",
       "      <td>2543.229706</td>\n",
       "      <td>49735.483871</td>\n",
       "      <td>NaN</td>\n",
       "      <td>1.0</td>\n",
       "      <td>NaN</td>\n",
       "      <td>http://www.properati.com.ar/19oy7_venta_depart...</td>\n",
       "      <td>Mono ambiente de 30.50m2 cubiertos con 3m2 de ...</td>\n",
       "      <td>Junín</td>\n",
       "      <td>https://thumbs4.properati.com/4/4XIjIUs5H7eUpI...</td>\n",
       "    </tr>\n",
       "    <tr>\n",
       "      <th>55358</th>\n",
       "      <td>Barrio Norte</td>\n",
       "      <td>3436109.0</td>\n",
       "      <td>-34.589546</td>\n",
       "      <td>-58.397364</td>\n",
       "      <td>1660000.0</td>\n",
       "      <td>ARS</td>\n",
       "      <td>1642683.54</td>\n",
       "      <td>93098.90</td>\n",
       "      <td>34.0</td>\n",
       "      <td>31.0</td>\n",
       "      <td>2738.202941</td>\n",
       "      <td>53548.387097</td>\n",
       "      <td>NaN</td>\n",
       "      <td>1.0</td>\n",
       "      <td>NaN</td>\n",
       "      <td>http://www.properati.com.ar/19oyd_venta_depart...</td>\n",
       "      <td>Mono ambiente de 30.50m2 cubiertos con 3m2 de ...</td>\n",
       "      <td>Junín</td>\n",
       "      <td>https://thumbs4.properati.com/3/I0nRvK4op1z0RY...</td>\n",
       "    </tr>\n",
       "    <tr>\n",
       "      <th>55359</th>\n",
       "      <td>Barrio Norte</td>\n",
       "      <td>3436109.0</td>\n",
       "      <td>-34.589546</td>\n",
       "      <td>-58.397364</td>\n",
       "      <td>1630000.0</td>\n",
       "      <td>ARS</td>\n",
       "      <td>1612996.49</td>\n",
       "      <td>91416.39</td>\n",
       "      <td>31.0</td>\n",
       "      <td>25.0</td>\n",
       "      <td>2948.915806</td>\n",
       "      <td>65200.000000</td>\n",
       "      <td>NaN</td>\n",
       "      <td>1.0</td>\n",
       "      <td>NaN</td>\n",
       "      <td>http://www.properati.com.ar/19oye_venta_depart...</td>\n",
       "      <td>Mono ambiente de 24.50m2 cubiertos con 3m2 de ...</td>\n",
       "      <td>Junín</td>\n",
       "      <td>https://thumbs4.properati.com/8/4HWGAvlpcpbZmg...</td>\n",
       "    </tr>\n",
       "    <tr>\n",
       "      <th>58827</th>\n",
       "      <td>Barrio Norte</td>\n",
       "      <td>3436109.0</td>\n",
       "      <td>-34.601319</td>\n",
       "      <td>-58.397206</td>\n",
       "      <td>1541800.0</td>\n",
       "      <td>ARS</td>\n",
       "      <td>1525716.56</td>\n",
       "      <td>86469.81</td>\n",
       "      <td>34.0</td>\n",
       "      <td>31.0</td>\n",
       "      <td>2543.229706</td>\n",
       "      <td>49735.483871</td>\n",
       "      <td>NaN</td>\n",
       "      <td>1.0</td>\n",
       "      <td>NaN</td>\n",
       "      <td>http://www.properati.com.ar/19wck_venta_depart...</td>\n",
       "      <td>EN EL CORAZÓN DE LA ZONA DE ESTUDIANTES , INME...</td>\n",
       "      <td>EXCELENTES UNIDADES FLEXIBLE APTO PROFESIONAL ...</td>\n",
       "      <td>https://thumbs4.properati.com/5/0yot2qmvsoHwOD...</td>\n",
       "    </tr>\n",
       "    <tr>\n",
       "      <th>58829</th>\n",
       "      <td>Barrio Norte</td>\n",
       "      <td>3436109.0</td>\n",
       "      <td>-34.601319</td>\n",
       "      <td>-58.397206</td>\n",
       "      <td>1660000.0</td>\n",
       "      <td>ARS</td>\n",
       "      <td>1642683.54</td>\n",
       "      <td>93098.90</td>\n",
       "      <td>34.0</td>\n",
       "      <td>31.0</td>\n",
       "      <td>2738.202941</td>\n",
       "      <td>53548.387097</td>\n",
       "      <td>NaN</td>\n",
       "      <td>1.0</td>\n",
       "      <td>NaN</td>\n",
       "      <td>http://www.properati.com.ar/19wcm_venta_depart...</td>\n",
       "      <td>EN EL CORAZÓN DE LA ZONA DE ESTUDIANTES , INME...</td>\n",
       "      <td>EXCELENTES UNIDADES FLEXIBLE APTO PROFESIONAL ...</td>\n",
       "      <td>https://thumbs4.properati.com/4/VdIhapDdWcgDzX...</td>\n",
       "    </tr>\n",
       "    <tr>\n",
       "      <th>58830</th>\n",
       "      <td>Barrio Norte</td>\n",
       "      <td>3436109.0</td>\n",
       "      <td>-34.601319</td>\n",
       "      <td>-58.397206</td>\n",
       "      <td>1630000.0</td>\n",
       "      <td>ARS</td>\n",
       "      <td>1612996.49</td>\n",
       "      <td>91416.39</td>\n",
       "      <td>31.0</td>\n",
       "      <td>25.0</td>\n",
       "      <td>2948.915806</td>\n",
       "      <td>65200.000000</td>\n",
       "      <td>NaN</td>\n",
       "      <td>1.0</td>\n",
       "      <td>NaN</td>\n",
       "      <td>http://www.properati.com.ar/19wcn_venta_depart...</td>\n",
       "      <td>EN EL CORAZÓN DE LA ZONA DE ESTUDIANTES , INME...</td>\n",
       "      <td>EXCELENTES UNIDADES FLEXIBLE APTO PROFESIONAL ...</td>\n",
       "      <td>https://thumbs4.properati.com/1/-4MPtbQozj4YZH...</td>\n",
       "    </tr>\n",
       "    <tr>\n",
       "      <th>87041</th>\n",
       "      <td>Recoleta</td>\n",
       "      <td>3429595.0</td>\n",
       "      <td>NaN</td>\n",
       "      <td>NaN</td>\n",
       "      <td>1333502.0</td>\n",
       "      <td>ARS</td>\n",
       "      <td>1319591.39</td>\n",
       "      <td>74787.69</td>\n",
       "      <td>30.0</td>\n",
       "      <td>27.0</td>\n",
       "      <td>2492.923000</td>\n",
       "      <td>49388.962963</td>\n",
       "      <td>NaN</td>\n",
       "      <td>NaN</td>\n",
       "      <td>NaN</td>\n",
       "      <td>http://www.properati.com.ar/1b59z_venta_depart...</td>\n",
       "      <td>El edificio se emplaza en una zona de gran con...</td>\n",
       "      <td>Departamento / Oficina en venta - Recoleta</td>\n",
       "      <td>https://thumbs4.properati.com/8/JV5KzAdf39cDpp...</td>\n",
       "    </tr>\n",
       "    <tr>\n",
       "      <th>111133</th>\n",
       "      <td>Recoleta</td>\n",
       "      <td>3429595.0</td>\n",
       "      <td>-34.601552</td>\n",
       "      <td>-58.397149</td>\n",
       "      <td>1541800.0</td>\n",
       "      <td>ARS</td>\n",
       "      <td>1525716.56</td>\n",
       "      <td>86469.81</td>\n",
       "      <td>34.0</td>\n",
       "      <td>30.0</td>\n",
       "      <td>2543.229706</td>\n",
       "      <td>51393.333333</td>\n",
       "      <td>NaN</td>\n",
       "      <td>1.0</td>\n",
       "      <td>NaN</td>\n",
       "      <td>http://www.properati.com.ar/1c59u_venta_depart...</td>\n",
       "      <td>Departamento de 1 ambiente al frente.Pisos flo...</td>\n",
       "      <td>Monoambiente a estrenar, Amenities, Recoleta. ...</td>\n",
       "      <td>https://thumbs4.properati.com/7/hTrtXctzjaT6cz...</td>\n",
       "    </tr>\n",
       "    <tr>\n",
       "      <th>113459</th>\n",
       "      <td>Recoleta</td>\n",
       "      <td>3429595.0</td>\n",
       "      <td>-34.568095</td>\n",
       "      <td>-58.433464</td>\n",
       "      <td>1900176.0</td>\n",
       "      <td>ARS</td>\n",
       "      <td>1880354.07</td>\n",
       "      <td>106568.85</td>\n",
       "      <td>45.0</td>\n",
       "      <td>32.0</td>\n",
       "      <td>2368.196667</td>\n",
       "      <td>59380.500000</td>\n",
       "      <td>NaN</td>\n",
       "      <td>2.0</td>\n",
       "      <td>NaN</td>\n",
       "      <td>http://www.properati.com.ar/1c8dt_venta_depart...</td>\n",
       "      <td>Departamento 2 ambientes al frente.El edificio...</td>\n",
       "      <td>Gran oportunidad en pozo,2 ambientes  Amenitie...</td>\n",
       "      <td>https://thumbs4.properati.com/9/G_oHx_1vWK3oyS...</td>\n",
       "    </tr>\n",
       "    <tr>\n",
       "      <th>113462</th>\n",
       "      <td>Recoleta</td>\n",
       "      <td>3429595.0</td>\n",
       "      <td>-34.589546</td>\n",
       "      <td>-58.397364</td>\n",
       "      <td>1660000.0</td>\n",
       "      <td>ARS</td>\n",
       "      <td>1642683.54</td>\n",
       "      <td>93098.90</td>\n",
       "      <td>34.0</td>\n",
       "      <td>30.0</td>\n",
       "      <td>2738.202941</td>\n",
       "      <td>55333.333333</td>\n",
       "      <td>NaN</td>\n",
       "      <td>1.0</td>\n",
       "      <td>NaN</td>\n",
       "      <td>http://www.properati.com.ar/1c8dw_venta_depart...</td>\n",
       "      <td>Departamento de 1 Ambiente al frente.Pisos flo...</td>\n",
       "      <td>Monoambiente a estrenar, Amenities, Recoleta. ...</td>\n",
       "      <td>https://thumbs4.properati.com/6/dgu3gK4b3IVbaI...</td>\n",
       "    </tr>\n",
       "    <tr>\n",
       "      <th>118423</th>\n",
       "      <td>Recoleta</td>\n",
       "      <td>3429595.0</td>\n",
       "      <td>-34.601095</td>\n",
       "      <td>-58.398118</td>\n",
       "      <td>9434600.0</td>\n",
       "      <td>ARS</td>\n",
       "      <td>9336182.23</td>\n",
       "      <td>529127.05</td>\n",
       "      <td>50.0</td>\n",
       "      <td>42.0</td>\n",
       "      <td>10582.541000</td>\n",
       "      <td>224633.333333</td>\n",
       "      <td>NaN</td>\n",
       "      <td>NaN</td>\n",
       "      <td>NaN</td>\n",
       "      <td>http://www.properati.com.ar/1ceor_venta_depart...</td>\n",
       "      <td>Departamento 50m² en Viamonte 2168, Capital Fe...</td>\n",
       "      <td>Departamento - Recoleta</td>\n",
       "      <td>https://thumbs4.properati.com/1/aZtix1vTVqj_w-...</td>\n",
       "    </tr>\n",
       "    <tr>\n",
       "      <th>118424</th>\n",
       "      <td>Recoleta</td>\n",
       "      <td>3429595.0</td>\n",
       "      <td>-34.601095</td>\n",
       "      <td>-58.398118</td>\n",
       "      <td>2313180.0</td>\n",
       "      <td>ARS</td>\n",
       "      <td>2289049.74</td>\n",
       "      <td>129731.63</td>\n",
       "      <td>50.0</td>\n",
       "      <td>42.0</td>\n",
       "      <td>2594.632600</td>\n",
       "      <td>55075.714286</td>\n",
       "      <td>NaN</td>\n",
       "      <td>NaN</td>\n",
       "      <td>NaN</td>\n",
       "      <td>http://www.properati.com.ar/1ceos_venta_depart...</td>\n",
       "      <td>Departamento 50m² en Viamonte 2168, Capital Fe...</td>\n",
       "      <td>Departamento - Recoleta</td>\n",
       "      <td>https://thumbs4.properati.com/1/aZtix1vTVqj_w-...</td>\n",
       "    </tr>\n",
       "    <tr>\n",
       "      <th>118425</th>\n",
       "      <td>Recoleta</td>\n",
       "      <td>3429595.0</td>\n",
       "      <td>-34.601095</td>\n",
       "      <td>-58.398118</td>\n",
       "      <td>1900176.0</td>\n",
       "      <td>ARS</td>\n",
       "      <td>1880354.07</td>\n",
       "      <td>106568.85</td>\n",
       "      <td>44.0</td>\n",
       "      <td>32.0</td>\n",
       "      <td>2422.019318</td>\n",
       "      <td>59380.500000</td>\n",
       "      <td>NaN</td>\n",
       "      <td>NaN</td>\n",
       "      <td>NaN</td>\n",
       "      <td>http://www.properati.com.ar/1ceot_venta_depart...</td>\n",
       "      <td>Departamento 44m² en Viamonte 2168, Capital Fe...</td>\n",
       "      <td>Departamento - Recoleta</td>\n",
       "      <td>https://thumbs4.properati.com/1/aZtix1vTVqj_w-...</td>\n",
       "    </tr>\n",
       "    <tr>\n",
       "      <th>118426</th>\n",
       "      <td>Recoleta</td>\n",
       "      <td>3429595.0</td>\n",
       "      <td>-34.601095</td>\n",
       "      <td>-58.398118</td>\n",
       "      <td>1600537.0</td>\n",
       "      <td>ARS</td>\n",
       "      <td>1583840.72</td>\n",
       "      <td>89763.99</td>\n",
       "      <td>59.0</td>\n",
       "      <td>29.0</td>\n",
       "      <td>1521.423559</td>\n",
       "      <td>55190.931034</td>\n",
       "      <td>NaN</td>\n",
       "      <td>NaN</td>\n",
       "      <td>NaN</td>\n",
       "      <td>http://www.properati.com.ar/1ceou_venta_depart...</td>\n",
       "      <td>Departamento 59m² en Viamonte 2168, Capital Fe...</td>\n",
       "      <td>Departamento - Recoleta</td>\n",
       "      <td>https://thumbs4.properati.com/1/aZtix1vTVqj_w-...</td>\n",
       "    </tr>\n",
       "    <tr>\n",
       "      <th>118427</th>\n",
       "      <td>Recoleta</td>\n",
       "      <td>3429595.0</td>\n",
       "      <td>-34.601095</td>\n",
       "      <td>-58.398118</td>\n",
       "      <td>1414106.0</td>\n",
       "      <td>ARS</td>\n",
       "      <td>1399354.59</td>\n",
       "      <td>79308.26</td>\n",
       "      <td>33.0</td>\n",
       "      <td>29.0</td>\n",
       "      <td>2403.280606</td>\n",
       "      <td>48762.275862</td>\n",
       "      <td>NaN</td>\n",
       "      <td>NaN</td>\n",
       "      <td>NaN</td>\n",
       "      <td>http://www.properati.com.ar/1ceov_venta_depart...</td>\n",
       "      <td>Departamento 33m² en Viamonte 2168, Capital Fe...</td>\n",
       "      <td>Departamento - Recoleta</td>\n",
       "      <td>https://thumbs4.properati.com/1/aZtix1vTVqj_w-...</td>\n",
       "    </tr>\n",
       "    <tr>\n",
       "      <th>118428</th>\n",
       "      <td>Recoleta</td>\n",
       "      <td>3429595.0</td>\n",
       "      <td>-34.601095</td>\n",
       "      <td>-58.398118</td>\n",
       "      <td>1471825.0</td>\n",
       "      <td>ARS</td>\n",
       "      <td>1456471.42</td>\n",
       "      <td>82545.35</td>\n",
       "      <td>33.0</td>\n",
       "      <td>29.0</td>\n",
       "      <td>2501.374242</td>\n",
       "      <td>50752.586207</td>\n",
       "      <td>NaN</td>\n",
       "      <td>NaN</td>\n",
       "      <td>NaN</td>\n",
       "      <td>http://www.properati.com.ar/1ceow_venta_depart...</td>\n",
       "      <td>Departamento 33m² en Viamonte 2168, Capital Fe...</td>\n",
       "      <td>Departamento - Recoleta</td>\n",
       "      <td>https://thumbs4.properati.com/1/aZtix1vTVqj_w-...</td>\n",
       "    </tr>\n",
       "    <tr>\n",
       "      <th>118429</th>\n",
       "      <td>Recoleta</td>\n",
       "      <td>3429595.0</td>\n",
       "      <td>-34.601095</td>\n",
       "      <td>-58.398118</td>\n",
       "      <td>1529543.0</td>\n",
       "      <td>ARS</td>\n",
       "      <td>1513587.38</td>\n",
       "      <td>85782.39</td>\n",
       "      <td>33.0</td>\n",
       "      <td>29.0</td>\n",
       "      <td>2599.466364</td>\n",
       "      <td>52742.862069</td>\n",
       "      <td>NaN</td>\n",
       "      <td>NaN</td>\n",
       "      <td>NaN</td>\n",
       "      <td>http://www.properati.com.ar/1ceox_venta_depart...</td>\n",
       "      <td>Departamento 33m² en Viamonte 2168, Capital Fe...</td>\n",
       "      <td>Departamento - Recoleta</td>\n",
       "      <td>https://thumbs4.properati.com/1/aZtix1vTVqj_w-...</td>\n",
       "    </tr>\n",
       "    <tr>\n",
       "      <th>118430</th>\n",
       "      <td>Recoleta</td>\n",
       "      <td>3429595.0</td>\n",
       "      <td>-34.601095</td>\n",
       "      <td>-58.398118</td>\n",
       "      <td>1492026.0</td>\n",
       "      <td>ARS</td>\n",
       "      <td>1476461.76</td>\n",
       "      <td>83678.30</td>\n",
       "      <td>56.0</td>\n",
       "      <td>27.0</td>\n",
       "      <td>1494.255357</td>\n",
       "      <td>55260.222222</td>\n",
       "      <td>NaN</td>\n",
       "      <td>NaN</td>\n",
       "      <td>NaN</td>\n",
       "      <td>http://www.properati.com.ar/1ceoy_venta_depart...</td>\n",
       "      <td>Departamento 56m² en Viamonte 2168, Capital Fe...</td>\n",
       "      <td>Departamento - Recoleta</td>\n",
       "      <td>https://thumbs4.properati.com/1/aZtix1vTVqj_w-...</td>\n",
       "    </tr>\n",
       "    <tr>\n",
       "      <th>118431</th>\n",
       "      <td>Recoleta</td>\n",
       "      <td>3429595.0</td>\n",
       "      <td>-34.601095</td>\n",
       "      <td>-58.398118</td>\n",
       "      <td>1300977.0</td>\n",
       "      <td>ARS</td>\n",
       "      <td>1287405.71</td>\n",
       "      <td>72963.57</td>\n",
       "      <td>30.0</td>\n",
       "      <td>27.0</td>\n",
       "      <td>2432.119000</td>\n",
       "      <td>48184.333333</td>\n",
       "      <td>NaN</td>\n",
       "      <td>NaN</td>\n",
       "      <td>NaN</td>\n",
       "      <td>http://www.properati.com.ar/1ceoz_venta_depart...</td>\n",
       "      <td>Departamento 30m² en Viamonte 2168, Capital Fe...</td>\n",
       "      <td>Departamento - Recoleta</td>\n",
       "      <td>https://thumbs4.properati.com/1/aZtix1vTVqj_w-...</td>\n",
       "    </tr>\n",
       "    <tr>\n",
       "      <th>118432</th>\n",
       "      <td>Recoleta</td>\n",
       "      <td>3429595.0</td>\n",
       "      <td>-34.601095</td>\n",
       "      <td>-58.398118</td>\n",
       "      <td>1354079.0</td>\n",
       "      <td>ARS</td>\n",
       "      <td>1339953.67</td>\n",
       "      <td>75941.72</td>\n",
       "      <td>30.0</td>\n",
       "      <td>27.0</td>\n",
       "      <td>2531.390667</td>\n",
       "      <td>50151.074074</td>\n",
       "      <td>NaN</td>\n",
       "      <td>NaN</td>\n",
       "      <td>NaN</td>\n",
       "      <td>http://www.properati.com.ar/1cep0_venta_depart...</td>\n",
       "      <td>Departamento 30m² en Viamonte 2168, Capital Fe...</td>\n",
       "      <td>Departamento - Recoleta</td>\n",
       "      <td>https://thumbs4.properati.com/1/aZtix1vTVqj_w-...</td>\n",
       "    </tr>\n",
       "    <tr>\n",
       "      <th>118433</th>\n",
       "      <td>Recoleta</td>\n",
       "      <td>3429595.0</td>\n",
       "      <td>-34.601095</td>\n",
       "      <td>-58.398118</td>\n",
       "      <td>1407180.0</td>\n",
       "      <td>ARS</td>\n",
       "      <td>1392500.76</td>\n",
       "      <td>78919.82</td>\n",
       "      <td>30.0</td>\n",
       "      <td>27.0</td>\n",
       "      <td>2630.660667</td>\n",
       "      <td>52117.777778</td>\n",
       "      <td>NaN</td>\n",
       "      <td>NaN</td>\n",
       "      <td>NaN</td>\n",
       "      <td>http://www.properati.com.ar/1cep1_venta_depart...</td>\n",
       "      <td>Departamento 30m² en Viamonte 2168, Capital Fe...</td>\n",
       "      <td>Departamento - Recoleta</td>\n",
       "      <td>https://thumbs4.properati.com/1/aZtix1vTVqj_w-...</td>\n",
       "    </tr>\n",
       "  </tbody>\n",
       "</table>\n",
       "</div>"
      ],
      "text/plain": [
       "              barrio  geonames_id    latitud   longitud     precio moneda  \\\n",
       "44035       Recoleta    3429595.0 -34.592608 -58.410879  1568100.0    ARS   \n",
       "44038       Recoleta    3429595.0 -34.592608 -58.410879  1340900.0    ARS   \n",
       "44040       Recoleta    3429595.0 -34.592608 -58.410879  2657600.0    ARS   \n",
       "44043       Recoleta    3429595.0 -34.592608 -58.410879  2514100.0    ARS   \n",
       "44044       Recoleta    3429595.0 -34.592608 -58.410879  3198900.0    ARS   \n",
       "44045       Recoleta    3429595.0 -34.592608 -58.410879  1845000.0    ARS   \n",
       "44664       Recoleta    3429595.0 -34.601159 -58.398106  1600537.0    ARS   \n",
       "44665       Recoleta    3429595.0 -34.601159 -58.398106  1492026.0    ARS   \n",
       "44666       Recoleta    3429595.0 -34.601159 -58.398106  2218764.0    ARS   \n",
       "44669       Recoleta    3429595.0 -34.601159 -58.398106  2313180.0    ARS   \n",
       "44670       Recoleta    3429595.0 -34.601159 -58.398106  1414106.0    ARS   \n",
       "44672       Recoleta    3429595.0 -34.601159 -58.398106  1300977.0    ARS   \n",
       "44673       Recoleta    3429595.0 -34.601159 -58.398106  1471825.0    ARS   \n",
       "44674       Recoleta    3429595.0 -34.601159 -58.398106  1354079.0    ARS   \n",
       "45761       Recoleta    3429595.0 -34.602279 -58.397065  1541800.0    ARS   \n",
       "45767       Recoleta    3429595.0 -34.601044 -58.396992  1300977.0    ARS   \n",
       "45769       Recoleta    3429595.0 -34.602279 -58.397065  1541800.0    ARS   \n",
       "51602   Barrio Norte    3436109.0 -34.596178 -58.400029    97000.0    ARS   \n",
       "54958       Recoleta    3429595.0 -34.588410 -58.391819  2715606.0    ARS   \n",
       "55356   Barrio Norte    3436109.0 -34.589546 -58.397364  1541800.0    ARS   \n",
       "55358   Barrio Norte    3436109.0 -34.589546 -58.397364  1660000.0    ARS   \n",
       "55359   Barrio Norte    3436109.0 -34.589546 -58.397364  1630000.0    ARS   \n",
       "58827   Barrio Norte    3436109.0 -34.601319 -58.397206  1541800.0    ARS   \n",
       "58829   Barrio Norte    3436109.0 -34.601319 -58.397206  1660000.0    ARS   \n",
       "58830   Barrio Norte    3436109.0 -34.601319 -58.397206  1630000.0    ARS   \n",
       "87041       Recoleta    3429595.0        NaN        NaN  1333502.0    ARS   \n",
       "111133      Recoleta    3429595.0 -34.601552 -58.397149  1541800.0    ARS   \n",
       "113459      Recoleta    3429595.0 -34.568095 -58.433464  1900176.0    ARS   \n",
       "113462      Recoleta    3429595.0 -34.589546 -58.397364  1660000.0    ARS   \n",
       "118423      Recoleta    3429595.0 -34.601095 -58.398118  9434600.0    ARS   \n",
       "118424      Recoleta    3429595.0 -34.601095 -58.398118  2313180.0    ARS   \n",
       "118425      Recoleta    3429595.0 -34.601095 -58.398118  1900176.0    ARS   \n",
       "118426      Recoleta    3429595.0 -34.601095 -58.398118  1600537.0    ARS   \n",
       "118427      Recoleta    3429595.0 -34.601095 -58.398118  1414106.0    ARS   \n",
       "118428      Recoleta    3429595.0 -34.601095 -58.398118  1471825.0    ARS   \n",
       "118429      Recoleta    3429595.0 -34.601095 -58.398118  1529543.0    ARS   \n",
       "118430      Recoleta    3429595.0 -34.601095 -58.398118  1492026.0    ARS   \n",
       "118431      Recoleta    3429595.0 -34.601095 -58.398118  1300977.0    ARS   \n",
       "118432      Recoleta    3429595.0 -34.601095 -58.398118  1354079.0    ARS   \n",
       "118433      Recoleta    3429595.0 -34.601095 -58.398118  1407180.0    ARS   \n",
       "\n",
       "        precio_pesos  precio_usd  superficie_m2  superficie_cubierta  \\\n",
       "44035     1551742.20    87944.81           36.0                 31.0   \n",
       "44038     1326912.27    75202.60           37.0                 25.0   \n",
       "44040     2629876.90   149047.97           82.0                 47.0   \n",
       "44043     2487873.97   140999.97           53.0                 47.0   \n",
       "44044     3165530.40   179406.07           95.0                 47.0   \n",
       "44045     1825753.69   103474.38           56.0                 26.0   \n",
       "44664     1583840.72    89763.99           60.0                 30.0   \n",
       "44665     1476461.76    83678.30           57.0                 27.0   \n",
       "44666     2195618.76   124436.44           51.0                 42.0   \n",
       "44669     2289049.74   129731.63           51.0                 42.0   \n",
       "44670     1399354.59    79308.26           34.0                 30.0   \n",
       "44672     1287405.71    72963.57           31.0                 27.0   \n",
       "44673     1456471.42    82545.35           34.0                 30.0   \n",
       "44674     1339953.67    75941.72           31.0                 27.0   \n",
       "45761     1586903.63    89937.58          335.0                305.0   \n",
       "45767     1339035.63    75889.69          305.0                 27.0   \n",
       "45769     1586903.63    89937.58          335.0                305.0   \n",
       "51602       95988.02     5440.11           45.0                 45.0   \n",
       "54958     2687277.81   152301.16           43.0                 40.0   \n",
       "55356     1525716.56    86469.81           34.0                 31.0   \n",
       "55358     1642683.54    93098.90           34.0                 31.0   \n",
       "55359     1612996.49    91416.39           31.0                 25.0   \n",
       "58827     1525716.56    86469.81           34.0                 31.0   \n",
       "58829     1642683.54    93098.90           34.0                 31.0   \n",
       "58830     1612996.49    91416.39           31.0                 25.0   \n",
       "87041     1319591.39    74787.69           30.0                 27.0   \n",
       "111133    1525716.56    86469.81           34.0                 30.0   \n",
       "113459    1880354.07   106568.85           45.0                 32.0   \n",
       "113462    1642683.54    93098.90           34.0                 30.0   \n",
       "118423    9336182.23   529127.05           50.0                 42.0   \n",
       "118424    2289049.74   129731.63           50.0                 42.0   \n",
       "118425    1880354.07   106568.85           44.0                 32.0   \n",
       "118426    1583840.72    89763.99           59.0                 29.0   \n",
       "118427    1399354.59    79308.26           33.0                 29.0   \n",
       "118428    1456471.42    82545.35           33.0                 29.0   \n",
       "118429    1513587.38    85782.39           33.0                 29.0   \n",
       "118430    1476461.76    83678.30           56.0                 27.0   \n",
       "118431    1287405.71    72963.57           30.0                 27.0   \n",
       "118432    1339953.67    75941.72           30.0                 27.0   \n",
       "118433    1392500.76    78919.82           30.0                 27.0   \n",
       "\n",
       "        precio_usd_m2      precio_m2  piso  habitaciones  expensas  \\\n",
       "44035     2442.911389   50583.870968   NaN           1.0       NaN   \n",
       "44038     2032.502703   53636.000000   NaN           1.0       NaN   \n",
       "44040     1817.658171   56544.680851   NaN           2.0       NaN   \n",
       "44043     2660.376792   53491.489362   NaN           2.0       NaN   \n",
       "44044     1888.484947   68061.702128   NaN           2.0       NaN   \n",
       "44045     1847.756786   70961.538462   NaN           1.0       NaN   \n",
       "44664     1496.066500   53351.233333   NaN           1.0       NaN   \n",
       "44665     1468.040351   55260.222222   NaN           1.0       NaN   \n",
       "44666     2439.930196   52827.714286   NaN           2.0       NaN   \n",
       "44669     2543.757451   55075.714286   NaN           2.0       NaN   \n",
       "44670     2332.595882   47136.866667   NaN           1.0       NaN   \n",
       "44672     2353.663548   48184.333333   NaN           1.0       NaN   \n",
       "44673     2427.804412   49060.833333   NaN           1.0       NaN   \n",
       "44674     2449.732903   50151.074074   NaN           1.0       NaN   \n",
       "45761      268.470388    5055.081967   4.0           NaN       NaN   \n",
       "45767      248.818656   48184.333333   3.0           NaN       NaN   \n",
       "45769      268.470388    5055.081967   4.0           NaN       NaN   \n",
       "51602      120.891333    2155.555556   NaN           2.0       NaN   \n",
       "54958     3541.887442   67890.150000   NaN           1.0       NaN   \n",
       "55356     2543.229706   49735.483871   NaN           1.0       NaN   \n",
       "55358     2738.202941   53548.387097   NaN           1.0       NaN   \n",
       "55359     2948.915806   65200.000000   NaN           1.0       NaN   \n",
       "58827     2543.229706   49735.483871   NaN           1.0       NaN   \n",
       "58829     2738.202941   53548.387097   NaN           1.0       NaN   \n",
       "58830     2948.915806   65200.000000   NaN           1.0       NaN   \n",
       "87041     2492.923000   49388.962963   NaN           NaN       NaN   \n",
       "111133    2543.229706   51393.333333   NaN           1.0       NaN   \n",
       "113459    2368.196667   59380.500000   NaN           2.0       NaN   \n",
       "113462    2738.202941   55333.333333   NaN           1.0       NaN   \n",
       "118423   10582.541000  224633.333333   NaN           NaN       NaN   \n",
       "118424    2594.632600   55075.714286   NaN           NaN       NaN   \n",
       "118425    2422.019318   59380.500000   NaN           NaN       NaN   \n",
       "118426    1521.423559   55190.931034   NaN           NaN       NaN   \n",
       "118427    2403.280606   48762.275862   NaN           NaN       NaN   \n",
       "118428    2501.374242   50752.586207   NaN           NaN       NaN   \n",
       "118429    2599.466364   52742.862069   NaN           NaN       NaN   \n",
       "118430    1494.255357   55260.222222   NaN           NaN       NaN   \n",
       "118431    2432.119000   48184.333333   NaN           NaN       NaN   \n",
       "118432    2531.390667   50151.074074   NaN           NaN       NaN   \n",
       "118433    2630.660667   52117.777778   NaN           NaN       NaN   \n",
       "\n",
       "                                            properati_url  \\\n",
       "44035   http://www.properati.com.ar/18zkn_venta_depart...   \n",
       "44038   http://www.properati.com.ar/18zl0_venta_depart...   \n",
       "44040   http://www.properati.com.ar/18zl4_venta_depart...   \n",
       "44043   http://www.properati.com.ar/18zl8_venta_depart...   \n",
       "44044   http://www.properati.com.ar/18zla_venta_depart...   \n",
       "44045   http://www.properati.com.ar/18zlb_venta_depart...   \n",
       "44664   http://www.properati.com.ar/19112_venta_depart...   \n",
       "44665   http://www.properati.com.ar/19117_venta_depart...   \n",
       "44666   http://www.properati.com.ar/1911a_venta_depart...   \n",
       "44669   http://www.properati.com.ar/1911e_venta_depart...   \n",
       "44670   http://www.properati.com.ar/1911f_venta_depart...   \n",
       "44672   http://www.properati.com.ar/1911i_venta_depart...   \n",
       "44673   http://www.properati.com.ar/1911k_venta_depart...   \n",
       "44674   http://www.properati.com.ar/1911l_venta_depart...   \n",
       "45761   http://www.properati.com.ar/194ur_venta_depart...   \n",
       "45767   http://www.properati.com.ar/194ux_venta_depart...   \n",
       "45769   http://www.properati.com.ar/194uz_venta_depart...   \n",
       "51602   http://www.properati.com.ar/19hd8_venta_depart...   \n",
       "54958   http://www.properati.com.ar/19o48_venta_depart...   \n",
       "55356   http://www.properati.com.ar/19oy7_venta_depart...   \n",
       "55358   http://www.properati.com.ar/19oyd_venta_depart...   \n",
       "55359   http://www.properati.com.ar/19oye_venta_depart...   \n",
       "58827   http://www.properati.com.ar/19wck_venta_depart...   \n",
       "58829   http://www.properati.com.ar/19wcm_venta_depart...   \n",
       "58830   http://www.properati.com.ar/19wcn_venta_depart...   \n",
       "87041   http://www.properati.com.ar/1b59z_venta_depart...   \n",
       "111133  http://www.properati.com.ar/1c59u_venta_depart...   \n",
       "113459  http://www.properati.com.ar/1c8dt_venta_depart...   \n",
       "113462  http://www.properati.com.ar/1c8dw_venta_depart...   \n",
       "118423  http://www.properati.com.ar/1ceor_venta_depart...   \n",
       "118424  http://www.properati.com.ar/1ceos_venta_depart...   \n",
       "118425  http://www.properati.com.ar/1ceot_venta_depart...   \n",
       "118426  http://www.properati.com.ar/1ceou_venta_depart...   \n",
       "118427  http://www.properati.com.ar/1ceov_venta_depart...   \n",
       "118428  http://www.properati.com.ar/1ceow_venta_depart...   \n",
       "118429  http://www.properati.com.ar/1ceox_venta_depart...   \n",
       "118430  http://www.properati.com.ar/1ceoy_venta_depart...   \n",
       "118431  http://www.properati.com.ar/1ceoz_venta_depart...   \n",
       "118432  http://www.properati.com.ar/1cep0_venta_depart...   \n",
       "118433  http://www.properati.com.ar/1cep1_venta_depart...   \n",
       "\n",
       "                                              descripcion  \\\n",
       "44035   1 AMBIENTE CON BALCÓN - BAÑO COMPLETO - COCINA...   \n",
       "44038   1 AMBIENTE CON BALCÓN - BAÑO COMPLETO - COCINA...   \n",
       "44040   2 AMBIENTES CON BALCÓN TERRAZA AL FRENTE - BAÑ...   \n",
       "44043   2 AMBIENTES CON BALCÓN AL FRENTE - BAÑO COMPLE...   \n",
       "44044   2 AMBIENTES AL FRENTE CON TERRAZA EXCLUSIVA - ...   \n",
       "44045   1 AMBIENTE AL CONTRAFRENTE CON TERRAZA EXCLUSI...   \n",
       "44664   1 AMBIENTE CON PATIO AL CONTRAFRENTE - BAÑO CO...   \n",
       "44665   1 AMBIENTE CON PATIO AL CONTRAFRENTE - BAÑO CO...   \n",
       "44666   1 AMBIENTE CON PATIO AL CONTRAFRENTE - BAÑO CO...   \n",
       "44669   1 AMBIENTE CON PATIO AL CONTRAFRENTE - BAÑO CO...   \n",
       "44670   1 AMBIENTE CON BALCÓN AL CONTRAFRENTE - BAÑO C...   \n",
       "44672   1 AMBIENTE CON BALCÓN AL CONTRAFRENTE - BAÑO C...   \n",
       "44673   1 AMBIENTE CON BALCÓN AL CONTRAFRENTE - BAÑO C...   \n",
       "44674   1 AMBIENTE CON BALCÓN AL CONTRAFRENTE - BAÑO C...   \n",
       "45761   Estudios JuninModernas Unidades aptas profesio...   \n",
       "45767   El edificio se emplaza en una zona de gran con...   \n",
       "45769   Modernas unidades aptas profesionales. Espacio...   \n",
       "51602   2 ambientes amplios, Living comedor, dormitori...   \n",
       "54958   DECÓ RECOLETA By Armani, uno de los proyectos ...   \n",
       "55356   Mono ambiente de 30.50m2 cubiertos con 3m2 de ...   \n",
       "55358   Mono ambiente de 30.50m2 cubiertos con 3m2 de ...   \n",
       "55359   Mono ambiente de 24.50m2 cubiertos con 3m2 de ...   \n",
       "58827   EN EL CORAZÓN DE LA ZONA DE ESTUDIANTES , INME...   \n",
       "58829   EN EL CORAZÓN DE LA ZONA DE ESTUDIANTES , INME...   \n",
       "58830   EN EL CORAZÓN DE LA ZONA DE ESTUDIANTES , INME...   \n",
       "87041   El edificio se emplaza en una zona de gran con...   \n",
       "111133  Departamento de 1 ambiente al frente.Pisos flo...   \n",
       "113459  Departamento 2 ambientes al frente.El edificio...   \n",
       "113462  Departamento de 1 Ambiente al frente.Pisos flo...   \n",
       "118423  Departamento 50m² en Viamonte 2168, Capital Fe...   \n",
       "118424  Departamento 50m² en Viamonte 2168, Capital Fe...   \n",
       "118425  Departamento 44m² en Viamonte 2168, Capital Fe...   \n",
       "118426  Departamento 59m² en Viamonte 2168, Capital Fe...   \n",
       "118427  Departamento 33m² en Viamonte 2168, Capital Fe...   \n",
       "118428  Departamento 33m² en Viamonte 2168, Capital Fe...   \n",
       "118429  Departamento 33m² en Viamonte 2168, Capital Fe...   \n",
       "118430  Departamento 56m² en Viamonte 2168, Capital Fe...   \n",
       "118431  Departamento 30m² en Viamonte 2168, Capital Fe...   \n",
       "118432  Departamento 30m² en Viamonte 2168, Capital Fe...   \n",
       "118433  Departamento 30m² en Viamonte 2168, Capital Fe...   \n",
       "\n",
       "                                                   titulo  \\\n",
       "44035                               1 Ambiente con Balcón   \n",
       "44038                               1 Ambiente con Balcón   \n",
       "44040            2 Ambientes con Balcón Terraza al Frente   \n",
       "44043                    2 Ambientes con Balcón al Frente   \n",
       "44044         2 Ambientes al Frente con Terraza Exclusiva   \n",
       "44045    1 Ambiente al Contrafrente con Terraza Exclusiva   \n",
       "44664                1 Ambiente con Patio al Contrafrente   \n",
       "44665                1 Ambiente con Patio al Contrafrente   \n",
       "44666                    2 Ambientes con Balcón al Frente   \n",
       "44669                    2 Ambientes con Balcón al Frente   \n",
       "44670               1 Ambiente con Balcón al Contrafrente   \n",
       "44672               1 Ambiente con Balcón al Contrafrente   \n",
       "44673               1 Ambiente con Balcón al Contrafrente   \n",
       "44674               1 Ambiente con Balcón al Contrafrente   \n",
       "45761   Departamento 335m² con Plantas en Junin 600, C...   \n",
       "45767   Departamento 305m² con Plantas en Viamonte 210...   \n",
       "45769   Departamento 335m² con Plantas en Junin 600, C...   \n",
       "51602   2 Ambientes amplios 45 metros AZCUENAGA Y SANT...   \n",
       "54958                 En Venta - Proyecto Lola - Recoleta   \n",
       "55356                                               Junín   \n",
       "55358                                               Junín   \n",
       "55359                                               Junín   \n",
       "58827   EXCELENTES UNIDADES FLEXIBLE APTO PROFESIONAL ...   \n",
       "58829   EXCELENTES UNIDADES FLEXIBLE APTO PROFESIONAL ...   \n",
       "58830   EXCELENTES UNIDADES FLEXIBLE APTO PROFESIONAL ...   \n",
       "87041          Departamento / Oficina en venta - Recoleta   \n",
       "111133  Monoambiente a estrenar, Amenities, Recoleta. ...   \n",
       "113459  Gran oportunidad en pozo,2 ambientes  Amenitie...   \n",
       "113462  Monoambiente a estrenar, Amenities, Recoleta. ...   \n",
       "118423                            Departamento - Recoleta   \n",
       "118424                            Departamento - Recoleta   \n",
       "118425                            Departamento - Recoleta   \n",
       "118426                            Departamento - Recoleta   \n",
       "118427                            Departamento - Recoleta   \n",
       "118428                            Departamento - Recoleta   \n",
       "118429                            Departamento - Recoleta   \n",
       "118430                            Departamento - Recoleta   \n",
       "118431                            Departamento - Recoleta   \n",
       "118432                            Departamento - Recoleta   \n",
       "118433                            Departamento - Recoleta   \n",
       "\n",
       "                                                   imagen  \n",
       "44035   https://thumbs4.properati.com/9/-jVn9mTvFU9Mh8...  \n",
       "44038   https://thumbs4.properati.com/5/v7dPVfTVh64Di-...  \n",
       "44040   https://thumbs4.properati.com/4/n278jXgCPlISfa...  \n",
       "44043   https://thumbs4.properati.com/4/XXDdfmKL7hOoW7...  \n",
       "44044   https://thumbs4.properati.com/8/C8LsLcWjzmbQUA...  \n",
       "44045   https://thumbs4.properati.com/8/14iYmvuZ_V3wpL...  \n",
       "44664   https://thumbs4.properati.com/3/NsxpshxmG7wacP...  \n",
       "44665   https://thumbs4.properati.com/9/EZwlKngJ19NCaI...  \n",
       "44666   https://thumbs4.properati.com/5/N4649fSUBNMqvN...  \n",
       "44669   https://thumbs4.properati.com/4/Mp6ComWGKTKJTq...  \n",
       "44670   https://thumbs4.properati.com/9/TACfs8clv-UXSV...  \n",
       "44672   https://thumbs4.properati.com/5/zxKQoZI9gZLvGP...  \n",
       "44673   https://thumbs4.properati.com/8/Ecl6jSfEZu083J...  \n",
       "44674   https://thumbs4.properati.com/5/bM-GWIg2Xm6NAR...  \n",
       "45761   https://thumbs4.properati.com/6/qhjvLl0WzSPNvz...  \n",
       "45767   https://thumbs4.properati.com/4/ZnZ53baMMpM-K3...  \n",
       "45769   https://thumbs4.properati.com/3/UafpA7JLzGhmdN...  \n",
       "51602   https://thumbs4.properati.com/5/mqk_SKfVPLcOBz...  \n",
       "54958   https://thumbs4.properati.com/5/oaK3lvAzX1O4oA...  \n",
       "55356   https://thumbs4.properati.com/4/4XIjIUs5H7eUpI...  \n",
       "55358   https://thumbs4.properati.com/3/I0nRvK4op1z0RY...  \n",
       "55359   https://thumbs4.properati.com/8/4HWGAvlpcpbZmg...  \n",
       "58827   https://thumbs4.properati.com/5/0yot2qmvsoHwOD...  \n",
       "58829   https://thumbs4.properati.com/4/VdIhapDdWcgDzX...  \n",
       "58830   https://thumbs4.properati.com/1/-4MPtbQozj4YZH...  \n",
       "87041   https://thumbs4.properati.com/8/JV5KzAdf39cDpp...  \n",
       "111133  https://thumbs4.properati.com/7/hTrtXctzjaT6cz...  \n",
       "113459  https://thumbs4.properati.com/9/G_oHx_1vWK3oyS...  \n",
       "113462  https://thumbs4.properati.com/6/dgu3gK4b3IVbaI...  \n",
       "118423  https://thumbs4.properati.com/1/aZtix1vTVqj_w-...  \n",
       "118424  https://thumbs4.properati.com/1/aZtix1vTVqj_w-...  \n",
       "118425  https://thumbs4.properati.com/1/aZtix1vTVqj_w-...  \n",
       "118426  https://thumbs4.properati.com/1/aZtix1vTVqj_w-...  \n",
       "118427  https://thumbs4.properati.com/1/aZtix1vTVqj_w-...  \n",
       "118428  https://thumbs4.properati.com/1/aZtix1vTVqj_w-...  \n",
       "118429  https://thumbs4.properati.com/1/aZtix1vTVqj_w-...  \n",
       "118430  https://thumbs4.properati.com/1/aZtix1vTVqj_w-...  \n",
       "118431  https://thumbs4.properati.com/1/aZtix1vTVqj_w-...  \n",
       "118432  https://thumbs4.properati.com/1/aZtix1vTVqj_w-...  \n",
       "118433  https://thumbs4.properati.com/1/aZtix1vTVqj_w-...  "
      ]
     },
     "execution_count": 12,
     "metadata": {},
     "output_type": "execute_result"
    }
   ],
   "source": [
    "dfFiltrado[ dfFiltrado['precio'] != dfFiltrado['precio_usd']]"
   ]
  },
  {
   "cell_type": "code",
   "execution_count": 13,
   "metadata": {},
   "outputs": [],
   "source": [
    "dfFiltrado = dfFiltrado[['barrio', 'geonames_id', 'latitud', 'longitud', 'precio_usd', 'superficie_m2', 'superficie_cubierta',\n",
    "       'precio_usd_m2', 'piso', 'habitaciones', 'expensas',\n",
    "       'properati_url', 'descripcion', 'titulo', 'imagen']]"
   ]
  },
  {
   "cell_type": "code",
   "execution_count": 14,
   "metadata": {},
   "outputs": [],
   "source": [
    "dfFiltrado['precio_usd_m2_calculado'] = dfFiltrado['precio_usd'] / dfFiltrado['superficie_m2']"
   ]
  },
  {
   "cell_type": "code",
   "execution_count": 15,
   "metadata": {},
   "outputs": [
    {
     "data": {
      "text/plain": [
       "True    1870\n",
       "dtype: int64"
      ]
     },
     "execution_count": 15,
     "metadata": {},
     "output_type": "execute_result"
    }
   ],
   "source": [
    "(dfFiltrado['precio_usd_m2'].astype(int) == dfFiltrado['precio_usd_m2_calculado'].astype(int)).value_counts()"
   ]
  },
  {
   "cell_type": "code",
   "execution_count": 16,
   "metadata": {},
   "outputs": [],
   "source": [
    "dfFiltrado.drop('precio_usd_m2_calculado', axis=1, inplace = True)"
   ]
  },
  {
   "cell_type": "code",
   "execution_count": 17,
   "metadata": {},
   "outputs": [
    {
     "data": {
      "text/plain": [
       "200       Los equipos de aire acondicionado no estan inc...\n",
       "227       Espectacular ubicación, al frente orientación ...\n",
       "412       2º piso al frente con balcón y grandes ventana...\n",
       "697       VENTA DEPARTAMENTO 2 AMBIENTES BARRIO NORTEImp...\n",
       "712       Venta de Departamento 3 AMBIENTES en Barrio No...\n",
       "1134      Excelente piso de categoría al frente, con  de...\n",
       "1142      Excelente piso antiguo. Pisos de parquet de ro...\n",
       "1143      Excelente piso antiguo de estilo racionalista,...\n",
       "1166      Lindisimo piso, en la mejor zona de Recoleta, ...\n",
       "1309      Semipiso al frente, living comedor a balcón co...\n",
       "1371      Edificio de categoría, frente al Hotel Alvear,...\n",
       "1533      CODIGO: 572-2515 ubicado en: Pacheco de Melo 2...\n",
       "4314      Piso único con gran recepción, comedor y escri...\n",
       "4668      -Departamento  de 88m2 y 82m2 cubiertos, al fr...\n",
       "5243      CERCA DE PARQUE LAS HERAS Y JARDÍN BOTÁNICO, E...\n",
       "5440      Muy lindo departamento de 4 ambientes en muy b...\n",
       "5500      Semi piso muy luminoso y con regia vista, al f...\n",
       "5914      -Divino depto al frente en impecable estado, a...\n",
       "6149      -Excelente y luminoso depto al frente de 197 m...\n",
       "6685      Excelente piso con balcón al frente. Plano inv...\n",
       "7301      SeÃ±orial departamento en Avenida Quintana y P...\n",
       "7369      EN EDIFICIO ESTILO RACIONALISTA, INMUEBLE RECI...\n",
       "7392      Piso de 8 ambientes, al frente con patio. Impo...\n",
       "8183      Lapida 1400, Excelente piso alto en la esquina...\n",
       "8435      -Muy buen depto. de 329 m2 y 287 m2 cubierto s...\n",
       "9057      Departamento de 4 ambientes con dependencia. P...\n",
       "9481      Zona Patio Bullrich, Palacio Duhau, Pza franci...\n",
       "9503      Living comedor de 6X3 a balcón al frente de 4....\n",
       "9911      Gran recepción al frente. Son 3  dormitorios, ...\n",
       "9921      Departamento de 2 ambientes al frente con sali...\n",
       "                                ...                        \n",
       "117689                            Muy Lindo departamento...\n",
       "117857    Muy buen semi piso de 3 ambientes, al frente. ...\n",
       "118314    VENTA DIRECTA DE DEPARTAMENTO EN BARRIO NORTEE...\n",
       "118464    EXCELENTE DEPARTAMENTO EN EL CORAZON DE RECOLE...\n",
       "118582    Excelente Triplex con Terraza y parrilla propi...\n",
       "118627    Listo para entrar a vivir!! 5 Ambientes con de...\n",
       "118628    Listo para entrar a vivir!! 5 Ambientes con de...\n",
       "118669    Listo para entrar a vivir!! 5 Ambientes con de...\n",
       "118670    Listo para entrar a vivir!! 5 Ambientes con de...\n",
       "118675    Listo para entrar a vivir!! 5 Ambientes con de...\n",
       "118677    Listo para entrar a vivir!! 5 Ambientes con de...\n",
       "118955    RESERVADO 31/07/2017  - RBA Inmobiliaria - Dto...\n",
       "119023    Para exigentes. Ideal pareja. Intima , elegant...\n",
       "119027    BARRIO NORTE - DEPARTAMENTO EN VENTA DE 1 AMBI...\n",
       "119030    BARRIO NORTE - DEPARTAMENTO EN VENTA DE 1 AMBI...\n",
       "119054    Semipiso Muy Luminoso!!!  Palier privado. Entr...\n",
       "119166    Exclusivo departamento en duplex de 4 ambiente...\n",
       "119235    Luminoso departamento al frente con excelente ...\n",
       "119282    Balcón con parrilla.Baulera: Unidad complement...\n",
       "119325    Emprendimiento en Recoleta, entrega a 24 meses...\n",
       "119326    Emprendimiento en Recoleta, entrega a 24 meses...\n",
       "119328    Departamento de 3 ambientes en Barrio Norte. M...\n",
       "119329    EXCELENTE DEPARTAMENTO ANTIGUO, RECICLADO EN M...\n",
       "119380    Muy lindo departamento al frente con amplia vi...\n",
       "119413    Departamento de un ambiente  Al frente, muy lu...\n",
       "119806    URUGUAY y ARENALES esquina,Edificio de aproxim...\n",
       "120217    French y Av. PueyrredónDepartamento de tres am...\n",
       "120303    Semi piso en Torre,  luminosidad excelente, or...\n",
       "121131    Excelente semipiso al frente de 4 ambientes. E...\n",
       "121158    Excelente Ubicación - Avenida Pueyrredon y Las...\n",
       "Name: descripcion, Length: 539, dtype: object"
      ]
     },
     "execution_count": 17,
     "metadata": {},
     "output_type": "execute_result"
    }
   ],
   "source": [
    "pd.set_option('display.max_colwidth', 50)\n",
    "dfFiltrado[dfFiltrado['descripcion'].str.lower().str.contains('al frente')]['descripcion']"
   ]
  },
  {
   "cell_type": "code",
   "execution_count": 18,
   "metadata": {},
   "outputs": [
    {
     "data": {
      "text/plain": [
       "(1870, 15)"
      ]
     },
     "execution_count": 18,
     "metadata": {},
     "output_type": "execute_result"
    }
   ],
   "source": [
    "dfFiltrado.shape"
   ]
  },
  {
   "cell_type": "code",
   "execution_count": 19,
   "metadata": {},
   "outputs": [],
   "source": [
    "dfFiltrado = dfFiltrado.drop_duplicates(subset='descripcion')"
   ]
  },
  {
   "cell_type": "code",
   "execution_count": 20,
   "metadata": {},
   "outputs": [
    {
     "data": {
      "text/plain": [
       "Index(['barrio', 'geonames_id', 'latitud', 'longitud', 'precio_usd',\n",
       "       'superficie_m2', 'superficie_cubierta', 'precio_usd_m2', 'piso',\n",
       "       'habitaciones', 'expensas', 'properati_url', 'descripcion', 'titulo',\n",
       "       'imagen'],\n",
       "      dtype='object')"
      ]
     },
     "execution_count": 20,
     "metadata": {},
     "output_type": "execute_result"
    }
   ],
   "source": [
    "dfFiltrado.columns"
   ]
  },
  {
   "cell_type": "code",
   "execution_count": 21,
   "metadata": {},
   "outputs": [],
   "source": [
    "# Cargar la data de distancias\n",
    "dfFiltrado = pd.read_csv(\"dfFiltradoconsubteypuntoscompl.csv\")  # DATOS DE PROPIEDADES EN VENTA PROPERATI"
   ]
  },
  {
   "cell_type": "code",
   "execution_count": 22,
   "metadata": {},
   "outputs": [],
   "source": [
    "dfFiltrado = dfFiltrado[['barrio', 'geonames_id', 'latitud',\n",
    "       'longitud', 'precio_usd', 'superficie_m2', 'superficie_cubierta',\n",
    "       'precio_usd_m2', 'piso', 'habitaciones', 'expensas', 'properati_url',\n",
    "       'descripcion', 'titulo', 'imagen', 'geom_x',\n",
    "       'estacion_mas_cercanan_x', 'dist_estacion_mas_cercana_x',\n",
    "       'estacion_mas_cercanap_x', 'distiso500_100', 'distiso1000_100',\n",
    "       'isopuntosimp2000_200', 'punto_mas_cercanan', 'dist_punto_mas_cercana',\n",
    "       'punto_mas_cercanap', 'subtegoo_x', 'subtegoo_y', 'puntosgoo','puntosgoo2']]"
   ]
  },
  {
   "cell_type": "code",
   "execution_count": 23,
   "metadata": {},
   "outputs": [],
   "source": [
    "pd.set_option('display.max_colwidth', -1)\n",
    "dfFiltrado['frente'] = dfFiltrado['descripcion'].str.lower().str.contains('al frente').apply(lambda x: 1 if x == True else 0)"
   ]
  },
  {
   "cell_type": "code",
   "execution_count": 24,
   "metadata": {},
   "outputs": [
    {
     "data": {
      "text/plain": [
       "0    954\n",
       "1    392\n",
       "Name: frente, dtype: int64"
      ]
     },
     "execution_count": 24,
     "metadata": {},
     "output_type": "execute_result"
    }
   ],
   "source": [
    "dfFiltrado['frente'].value_counts()"
   ]
  },
  {
   "cell_type": "code",
   "execution_count": 25,
   "metadata": {},
   "outputs": [
    {
     "data": {
      "text/plain": [
       "0       1\n",
       "61      1\n",
       "79      1\n",
       "96      0\n",
       "98      1\n",
       "115     1\n",
       "154     1\n",
       "161     1\n",
       "164     0\n",
       "171     0\n",
       "182     0\n",
       "195     1\n",
       "196     1\n",
       "200     1\n",
       "210     1\n",
       "235     1\n",
       "260     1\n",
       "351     1\n",
       "355     1\n",
       "368     1\n",
       "369     1\n",
       "370     1\n",
       "377     0\n",
       "386     1\n",
       "394     1\n",
       "400     1\n",
       "426     1\n",
       "427     1\n",
       "433     1\n",
       "465     1\n",
       "       ..\n",
       "779     1\n",
       "794     1\n",
       "808     1\n",
       "818     0\n",
       "843     0\n",
       "844     1\n",
       "873     1\n",
       "882     1\n",
       "894     1\n",
       "895     1\n",
       "902     1\n",
       "906     0\n",
       "910     1\n",
       "911     1\n",
       "930     1\n",
       "934     1\n",
       "946     1\n",
       "999     0\n",
       "1020    1\n",
       "1125    0\n",
       "1149    1\n",
       "1262    1\n",
       "1263    0\n",
       "1278    0\n",
       "1286    1\n",
       "1317    1\n",
       "1318    0\n",
       "1319    0\n",
       "1320    0\n",
       "1333    1\n",
       "Name: frente, Length: 80, dtype: int64"
      ]
     },
     "execution_count": 25,
     "metadata": {},
     "output_type": "execute_result"
    }
   ],
   "source": [
    "dfFiltrado['descripcion'].str.lower().str.contains('contrafrente').value_counts()\n",
    "dfFiltrado['descripcion'].str.lower().str.contains('al frente').value_counts()\n",
    "\n",
    "dfFiltrado[dfFiltrado['titulo'].str.lower().str.contains('al frente')]['frente']"
   ]
  },
  {
   "cell_type": "code",
   "execution_count": 26,
   "metadata": {},
   "outputs": [
    {
     "data": {
      "text/plain": [
       "0       True \n",
       "1       True \n",
       "2       False\n",
       "3       False\n",
       "4       True \n",
       "5       False\n",
       "6       False\n",
       "7       False\n",
       "8       False\n",
       "9       False\n",
       "10      True \n",
       "11      False\n",
       "12      False\n",
       "13      True \n",
       "14      False\n",
       "15      False\n",
       "16      True \n",
       "17      True \n",
       "18      False\n",
       "19      True \n",
       "20      False\n",
       "21      False\n",
       "22      False\n",
       "23      False\n",
       "24      False\n",
       "25      True \n",
       "26      False\n",
       "27      False\n",
       "28      False\n",
       "29      True \n",
       "        ...  \n",
       "1316    False\n",
       "1317    True \n",
       "1318    True \n",
       "1319    True \n",
       "1320    True \n",
       "1321    False\n",
       "1322    False\n",
       "1323    False\n",
       "1324    False\n",
       "1325    True \n",
       "1326    True \n",
       "1327    True \n",
       "1328    False\n",
       "1329    False\n",
       "1330    True \n",
       "1331    False\n",
       "1332    False\n",
       "1333    True \n",
       "1334    False\n",
       "1335    False\n",
       "1336    True \n",
       "1337    False\n",
       "1338    False\n",
       "1339    True \n",
       "1340    True \n",
       "1341    False\n",
       "1342    False\n",
       "1343    True \n",
       "1344    False\n",
       "1345    True \n",
       "Length: 1346, dtype: bool"
      ]
     },
     "execution_count": 26,
     "metadata": {},
     "output_type": "execute_result"
    }
   ],
   "source": [
    "dfFiltrado['titulo'].str.lower().str.contains('al frente') | dfFiltrado['descripcion'].str.lower().str.contains('al frente')"
   ]
  },
  {
   "cell_type": "code",
   "execution_count": 27,
   "metadata": {},
   "outputs": [
    {
     "data": {
      "text/plain": [
       "0       1\n",
       "61      1\n",
       "79      1\n",
       "96      1\n",
       "98      1\n",
       "115     1\n",
       "154     1\n",
       "161     1\n",
       "164     1\n",
       "171     1\n",
       "182     1\n",
       "195     1\n",
       "196     1\n",
       "200     1\n",
       "210     1\n",
       "235     1\n",
       "260     1\n",
       "351     1\n",
       "355     1\n",
       "368     1\n",
       "369     1\n",
       "370     1\n",
       "377     1\n",
       "386     1\n",
       "394     1\n",
       "400     1\n",
       "426     1\n",
       "427     1\n",
       "433     1\n",
       "465     1\n",
       "       ..\n",
       "779     1\n",
       "794     1\n",
       "808     1\n",
       "818     1\n",
       "843     1\n",
       "844     1\n",
       "873     1\n",
       "882     1\n",
       "894     1\n",
       "895     1\n",
       "902     1\n",
       "906     1\n",
       "910     1\n",
       "911     1\n",
       "930     1\n",
       "934     1\n",
       "946     1\n",
       "999     1\n",
       "1020    1\n",
       "1125    1\n",
       "1149    1\n",
       "1262    1\n",
       "1263    1\n",
       "1278    1\n",
       "1286    1\n",
       "1317    1\n",
       "1318    1\n",
       "1319    1\n",
       "1320    1\n",
       "1333    1\n",
       "Name: frente, Length: 80, dtype: int64"
      ]
     },
     "execution_count": 27,
     "metadata": {},
     "output_type": "execute_result"
    }
   ],
   "source": [
    "dfFiltrado['frente'] = (dfFiltrado['titulo'].str.lower().str.contains(' frente') | dfFiltrado['descripcion'].str.lower().str.contains(' frente')).apply(lambda x: 1 if x == True else 0)\n",
    "dfFiltrado[dfFiltrado['titulo'].str.lower().str.contains('al frente')]['frente']"
   ]
  },
  {
   "cell_type": "code",
   "execution_count": 28,
   "metadata": {},
   "outputs": [
    {
     "data": {
      "text/plain": [
       "0    810\n",
       "1    536\n",
       "Name: frente, dtype: int64"
      ]
     },
     "execution_count": 28,
     "metadata": {},
     "output_type": "execute_result"
    }
   ],
   "source": [
    "dfFiltrado['frente'].value_counts()"
   ]
  },
  {
   "cell_type": "code",
   "execution_count": 29,
   "metadata": {},
   "outputs": [
    {
     "data": {
      "text/plain": [
       "0       Los equipos de aire acondicionado no estan incluidos en el precio de venta.Semipiso. Living. Comedor. 4 dormitorio(s) 1 en suite. 2 baño(s) 1 toilette(s). Entre medianeras. Al frente. S/av. principal.  Antiguo.  Luminoso.  En muy buen estado. Orientación Suroeste. Antigüedad 80 años.                                                                                                                                                                                                                                                                                                                                                                                                                                                                                                                                                                                                                                                                                                                                                                                                                                                                                                                                                                                                                                                                                                                                                                                                                                                                                                                                                                                                                                                                                               \n",
       "1       Espectacular ubicación, al frente orientación Este.En la mejor cuadra y de mayor categoría de la ciudad de Buenos Aires.Tiene muy buena luz porque la altura de la unidad supera los edificios linderos.Living en \"L\"Balcon corrido al frenteDormitorio principal al frenteCocina Comedor diarioLavadero independienteDependencia de servicioPalier privadoPlacard de recepciónPlacares de soporte2 baños completosToilette4 domitoriosDoble circulaciónCOCHERA DOBLEBauleraSeguridad 24hsReferencias de la zona:Palacio DuhauAlvear PalacePlaza Intendente Torcuato de AlvearCentro Cultural RecoletaCementerio de RecoletaRecoleta MallColectivos: 10, 17, 37, 59, 60, 61, 62, 67, 75, 92, 93, 101, 102, 108, 110, 124, 130Las medidas son Aproximadas y al solo efecto orientativo, las medidas reales surgirán del Título de Propiedad respectivo.- Importante: La venta del Inmueble referido se encuentra sujeta a la tramitación del Código de Oferta de Transferencia de Inmuebles (C.O.T.I.) por parte del propietario.                                                                                                                                                                                                                                                                                                                                                                                                                                                                                                                                                                                                                                                                                                                                                           \n",
       "2       Excelente departamento a estrenar en recoleta , frente al hospital de niños Dr Ricardo Gutierrez , a metros de la Universidad de Palermo, a pocas cuadras de la estación Bulnes de la linea D , e innumerables lineas de colectivos q nos comunican a todas las partes d capital federal .El edificio cuenta con pileta , sum, laundry, losa radiante , agua caliente central , superficie de la propiedad 36.09m2 superficie cubierta 33m2, las unidades tienen la opcion de cochera por dolares U$S 36.000                                                                                                                                                                                                                                                                                                                                                                                                                                                                                                                                                                                                                                                                                                                                                                                                                                                                                                                                                                                                                                                                                                                                                                                                                                                                               \n",
       "4       2º piso al frente con balcón y grandes ventanales. Gran recepción. Living y comedor. Lugar de estar. 4 dormitorios, dos de ellos, uno en suite, dan a un lindo pulmón de manzana con mucho verde. Otro baño completo y toilette de recepción. Cocina y comedor diario. Lavadero independiente. Dependencia y baño de servicio. Servicios centrales. Expensas $4800. Opción cochera en alquiler.La presente oferta de venta está condicionada a la obtención del COTI por parte del propietario. Las medidas informadas son aproximadas y orientativas. Las medidas exactas surgirán del título de propiedad.Matriculado:Martín LottiCPI 2989                                                                                                                                                                                                                                                                                                                                                                                                                                                                                                                                                                                                                                                                                                                                                                                                                                                                                                                                                                                                                                                                                                                                               \n",
       "6       Excelente departament 2 amb a estrenar en recoleta , frente al hospital de niños Dr Ricardo Gutierrez , a metros de la Universidad de Palermo, a pocas cuadras de la estación Bulnes de la linea D , e innumerables lineas de colectivos q nos comunican a todas las partes d capital federal .El edificio cuenta con pileta , sum, laundry, losa radiante , agua caliente central , superficie de la propiedad 50 m2 superficie cubierta 43m2, toilette de recepcion 1 dormitorio en suite hay opción de cochera , no dude en consulta Aviso publicado por Sumaprop | Gestión Inmobiliaria Simple.                                                                                                                                                                                                                                                                                                                                                                                                                                                                                                                                                                                                                                                                                                                                                                                                                                                                                                                                                                                                                                                                                                                                                                                        \n",
       "7       Excelente departamento a estrenar en recoleta , frente al hospital de niños Dr Ricardo Gutierrez , a metros de la Universidad de Palermo, a pocas cuadras de la estación Bulnes de la linea D , e innumerables lineas de colectivos q nos comunican a todas las partes d capital federal .El edificio cuenta con pileta , sum, laundry, losa radiante , agua caliente central , superficie de la propiedad 28 m2 superficie cubierta 29 m2, hay opcion de cocheras a un valor d U$S 105.000 , no dude en consulta Aviso publicado por Sumaprop | Gestión Inmobiliaria Simple.                                                                                                                                                                                                                                                                                                                                                                                                                                                                                                                                                                                                                                                                                                                                                                                                                                                                                                                                                                                                                                                                                                                                                                                                              \n",
       "8       Excelente departamento Monoambiente a estrenar en recoleta , frente al hospital de niños Dr Ricardo Gutierrez , a metros de la Universidad de Palermo, a pocas cuadras de la estación Bulnes de la linea D , e innumerables lineas de colectivos q nos comunican a todas las partes d capital federal .El edificio cuenta con pileta , sum, laundry, losa radiante , agua caliente central , superficie de la propiedad 36m2 superficie cubierta 37m2, posibilidad de comprar cochera , no dude en consultar Aviso publicado por Sumaprop | Gestión Inmobiliaria Simple.                                                                                                                                                                                                                                                                                                                                                                                                                                                                                                                                                                                                                                                                                                                                                                                                                                                                                                                                                                                                                                                                                                                                                                                                                   \n",
       "9       Excelente departamento de 2 amb con posibilidad a 3 amb a estrenar en recoleta , frente al hospital de niños Dr Ricardo Gutierrez , a metros de la Universidad de Palermo, a pocas cuadras de la estación Bulnes de la linea D , e innumerables lineas de colectivos q nos comunican a todas las partes d capital federal .El edificio cuenta con pileta , sum, laundry, losa radiante , agua caliente central , superficie de la propiedad 61 m2 superficie cubierta 71 m2, hay posibilidad de adquirir cocheras cochera incluida , no dude en consultarAviso publicado por Sumaprop | Gestión Inmobiliaria Simple.                                                                                                                                                                                                                                                                                                                                                                                                                                                                                                                                                                                                                                                                                                                                                                                                                                                                                                                                                                                                                                                                                                                                                                       \n",
       "10      VENTA DEPARTAMENTO 2 AMBIENTES BARRIO NORTEImpecable unidad al frente con vista abierta, en excelente ubicación a metros de Av. Cordoba, Plaza Houssay y facultades.  Consta de living-comedor, dormitorio con placard, cocina independiente equipada con muebles bajo y sobre mesada y baño completo. Los ambientes son muy luminosos.LEPORE PROPIEDADES  LEPORE Propiedades S.A.CUIT : 33-60234274-9C.U.C.I.C.B.A. Matrícula Nº 931 (Sucursales Caballito - Palermo - Centro)AVISO LEGAL: Las descripciones arquitectónicas y funcionales, valores de expensas, impuestos y servicios, fotos y medidas de este inmueble son aproximados. Los datos fueron proporcionados por el propietario y pueden no estar actualizados a la hora de la visualización de este aviso por lo cual pueden arrojar inexactitudes y discordancias con las que surgen de los las facturas, títulos y planos legales del inmueble. El interesado deberá realizar las verificaciones respectivas previamente a la realización de cualquier operación, requiriendo por sí o sus profesionales las copias necesarias de la documentación que corresponda.Venta supeditada al cumplimiento por parte del propietario de los requisitos de la resolución general Nº 2371 de la AFIP (pedido de COTI) -  - LEPORE PROPIEDADES                                                                                                                                                                                                                                                                                                                                                                                                                                                                                      \n",
       "13      Excelente piso de categoría al frente, con  detalles de construcción, altura de techos, molduras y  excelente parquet de roble. Imponente recepción de amplio  hall de entrada, Living a balcón corrido, comedor separado por puertas corredizas. Toilette .Cuatro dormitorios, uno en suite, dos baños completos. Doble circulación. Gran sector de servicio compuesto por cocina, comedor diario, lavadero y tres dependencias .Dos cocheras fijas. Posee vigilancia las 24 hs.                                                                                                                                                                                                                                                                                                                                                                                                                                                                                                                                                                                                                                                                                                                                                                                                                                                                                                                                                                                                                                                                                                                                                                                                                                                                                                          \n",
       "16      Excelente piso antiguo. Pisos de parquet de roble.Muy luminoso. Hall de entrada, amplio living-comedor, toilette. Dos dormitorios a balcon corrido al frente, lleno de sol. Comodo baño con ventana. Cocina Lavadero y dependencias que puede ser escritorio. Posibilidad de alquilar cochera enfrente.                                                                                                                                                                                                                                                                                                                                                                                                                                                                                                                                                                                                                                                                                                                                                                                                                                                                                                                                                                                                                                                                                                                                                                                                                                                                                                                                                                                                                                                                                    \n",
       "17      Excelente piso antiguo de estilo racionalista, PP, Gran hall de entrada, increible recepcion de living comedor y escritorio a balcon al frente, vista abierta. toilette. 3/4 dormitorios, dos baños completos, Doble ciculacion. Amplio family , comedor diario, cocina,  gran lavadero y dos dependencias. lleno de luz y sol. Cochera.                                                                                                                                                                                                                                                                                                                                                                                                                                                                                                                                                                                                                                                                                                                                                                                                                                                                                                                                                                                                                                                                                                                                                                                                                                                                                                                                                                                                                                                   \n",
       "19      Lindisimo piso, en la mejor zona de Recoleta, PP cómoda recepción en L al frente a balcón corrido, toilette de recep, . Tres amplios dormitorios, dos baños completos, Muy buena planta con doble circulación. Cómoda cocina Lavadero y dependencias. sistema de vigilancia, ojo de águila. Servicios centrales. Una cochera fija. En el ultimo piso una habitación antiguamente destinada a los choferes de muy buenas medidas y excelente luz. Estado de Época.                                                                                                                                                                                                                                                                                                                                                                                                                                                                                                                                                                                                                                                                                                                                                                                                                                                                                                                                                                                                                                                                                                                                                                                                                                                                                                                          \n",
       "22      Excelente piso con increible vista panoramica de 360º grados. Torre de categoria, frente al patio Bullrich. PP, hall de entrada, gran recepcion en L  de living y comedor, todo con ventanales con vista al rio, puerto.Pisos tarugados. Tres dormitorios, uno en suite con vestidor, dos baños completos. Excelentes placards. cocina, lavadero y dependencias Excelente plano, cochera, baulera y vigilancia 24 horas.  Expensas bajas.Grupo electrogeno.                                                                                                                                                                                                                                                                                                                                                                                                                                                                                                                                                                                                                                                                                                                                                                                                                                                                                                                                                                                                                                                                                                                                                                                                                                                                                                                                \n",
       "25      Semipiso al frente, living comedor a balcón corrido con pisos de parquet de roble, excelente plano pues cuenta con dos dormitorios y un tercer dormitorio o dependencia. toilette y baño completo. cómoda cocina y lavadero. Cochera. baulera.                                                                                                                                                                                                                                                                                                                                                                                                                                                                                                                                                                                                                                                                                                                                                                                                                                                                                                                                                                                                                                                                                                                                                                                                                                                                                                                                                                                                                                                                                                                                             \n",
       "26      Edificio de Gran categoría en la mejor zona de Recoleta, diseñado por Mario Roberto Alvarez. Gran recepción, de living con ventanal al contra frente con vista a jardines, comedor. Pisos de roble de eslabonia originales. Sala de televisión o escritorio, toilette. Amplia cocina con tres hornos, comedor diario separado por puertas de blindex, lavadero, sector de planchado y dependencias para dos personas con un baño. Dos dormitorios, el principal en suite con living intimo, vista a jardines al contra frente, vestidor y/o sala de masajes, baño compartimentado y jacuzzi, el segundo dormitorio en suite con biblioteca. Posee cinco cocheras, (1 en el 1 subsuerlo ; 2 en el segundo y 2 en el cuarto subsuelo ).Una baulera seguridad 24 horas.                                                                                                                                                                                                                                                                                                                                                                                                                                                                                                                                                                                                                                                                                                                                                                                                                                                                                                                                                                                                                       \n",
       "28      Edificio a estrenar. Muy buena categoría. Lindisimo monoambiente a tranquilo contra frente  con balcón aterrazado. Cocina con barra.Baño completo, también cuenta con un cómodo espacio para escritorio o vestidor. Excelentes detalles de construcción. El edifiico tiene Sum, Laundry y vigilancia.                                                                                                                                                                                                                                                                                                                                                                                                                                                                                                                                                                                                                                                                                                                                                                                                                                                                                                                                                                                                                                                                                                                                                                                                                                                                                                                                                                                                                                                                                      \n",
       "29      Edificio de categoría, frente al Hotel Alvear, todo en esquina. Gran piso, al frente , Super luminoso. PP , Hall de entrada con placard. Amplio living con elegante chimenea, gran comedor, todo con ventanales. Toilette de recepción. Cuatro dormitorios todos externos, con balcón frances y muy luminosos. Buenos Placards. Una master suite, con baño con jacuzzi.Doble circulación , Gran area de servicio que consta de dos dependencias, amplio lavadero, Gran cocina con office.Los 227 metros incluyen los 14.56 metros de la baulera en el sotano.Dos cocheras fijas de gran tamaño (entran 3 autos normales) en Alvear 1881 2º subsuelo, cocheras Nº 49 y 50                                                                                                                                                                                                                                                                                                                                                                                                                                                                                                                                                                                                                                                                                                                                                                                                                                                                                                                                                                                                                                                                                                                   \n",
       "38      Piso único con gran recepción, comedor y escritorio, todo al frente a balcón corrido. Muy luminoso. Piso alto. Tres dormitorios de buen tamaño, el principal con vestidor y los otros dos dan a pulmón verde abierto. Cocina con lugar para breakfast. Lavadero y dos dependencias de servicio. Baulera. Expensas $7200.La presente oferta de venta está condicionada a la obtención del COTI por parte del propietario.Las medidas informadas son aproximadas y orientativas. Las medidas exactas surgirán del título de propiedad.                                                                                                                                                                                                                                                                                                                                                                                                                                                                                                                                                                                                                                                                                                                                                                                                                                                                                                                                                                                                                                                                                                                                                                                                                                                       \n",
       "41      -Departamento  de 88m2 y 82m2 cubiertos, al frente con balcón-Buena planta en estado general de época de 4 ambientes + baulera individual.-Dos dormitorios + escritorio pequeño o tercer dormitorio abierto al living.-Un baño + toilette-Buenos pisos de parquet                                                                                                                                                                                                                                                                                                                                                                                                                                                                                                                                                                                                                                                                                                                                                                                                                                                                                                                                                                                                                                                                                                                                                                                                                                                                                                                                                                                                                                                                                                                          \n",
       "43      CERCA DE PARQUE LAS HERAS Y JARDÍN BOTÁNICO, EXCELENTE ENTORNO EDILICIO, MUY LUMINOSO AL FRENTE GRAN RECEPCIÓN, 3 DORMITORIOS (UNO ESTA TRANSFORMADO EN COMEDOR PERO PUEDE VOLVER A SU ANTERIOR ESTADO), COCINA COMEDOR, DEPENDENCIA, 3 BAÑOS, DORMITORIOS CON PLACARD PISOS DE PARQUET, PALIER SEMI PRIVADO. BAULERA INDIVIDUAL...                                                                                                                                                                                                                                                                                                                                                                                                                                                                                                                                                                                                                                                                                                                                                                                                                                                                                                                                                                                                                                                                                                                                                                                                                                                                                                                                                                                                                                                        \n",
       "46      SEMIPISO 3 AMBIENTES CON DEPENDENCIA. FRENTE. 110 M2. IMPECABLE. TODO SOL. BALCON CORRIDO CON PROTECCION. DOBLE ENTRADA. DOBLE CIRCULACION. AMPLIO HALL DE RECEPCION. GRAN LIVING. BAÑO COMPLETO. COCINA + COMEDOR DIARIO. 2 PLACARDS. SERVICIOS INDIVIDUALES. LAVADERO INCORPORADO. PISOS DE PARQUET Y PINOTEA. EDIFICIO DE 5 PISOS, 2 X PISO, ASCENSOR.EXPENSAS: $ 4.900.-ABL: $ 537.-ENTRE MANSILLA Y PARAGUAYBARRIO NORTEAVISO LEGAL: Las descripciones arquitectónicas y funcionales, valores de expensas, impuestos y servicios, fotos y medidas de este inmueble son aproximados. Los datos fueron proporcionados por el propietario y pueden no estar actualizados a la hora de la visualización de este aviso por lo cual pueden arrojar inexactitudes y discordancias con las que surgen de los las facturas, títulos y planos legales del inmueble. El interesado deberá realizar las verificaciones respectivas previamente a la realización de cualquier operación, requiriendo por sí o sus profesionales las copias necesarias de la documentación que corresponda.*FichaBrick=1016173* -  - BRICK PROPIEDADES                                                                                                                                                                                                                                                                                                                                                                                                                                                                                                                                                                                                                                                              \n",
       "50      Muy lindo departamento de 4 ambientes en muy buena ubicación. Edificio de categoría con seguridad las 24 hs.Cuenta con un living comedor amplio con balcón de corrido con el dormitorio principal al frente. Segundo y tercer dormitorio al contrafrente. Baño completo, toilete y cocina con comedor de diario.Calefacción individual y agua caliente central.Cuenta con una baulera individual dentro del precio.Las medidas son aproximadas, las reales surgen de la escritura traslativa de dominio. -  - BAIRESLODGE                                                                                                                                                                                                                                                                                                                                                                                                                                                                                                                                                                                                                                                                                                                                                                                                                                                                                                                                                                                                                                                                                                                                                                                                                                                                  \n",
       "51      BAJAS EXPENSAS - VENTA DEPARTAMENTO 4 AMBIENTES EN PLENO CORAZON DE RECOLETAUbicado en pleno corazón de Recoleta frente al hotel Alvear. Se encuentra en un piso alto al contrafrente, muy luminoso. Cuenta con living con balcón, comedor (o tercer dormitorio). 2 dormitorios (uno con balcón), 2 baños completos, cocina y dependencia con baño.Baulera individual de 4 mts.Servicios centrales, bajas expensas!Las medidas son aproximadas, las reales salen de la escritura. -  - BAIRESLODGE                                                                                                                                                                                                                                                                                                                                                                                                                                                                                                                                                                                                                                                                                                                                                                                                                                                                                                                                                                                                                                                                                                                                                                                                                                                                                         \n",
       "53      Semi piso muy luminoso y con regia vista, al frente y al cfte.RECICLADO A FULL con excelente gusto y diseñoImportantes y exclusivos detalles en recepción y baños2 LIVINGS, COMEDOR, 2 BALCONES, TOILETTE, 3 SUITES, COCINA, COMEDOR DIARIO, 1 DEPENDENCIA, 1 COCHERA FIJA, BAULERA, SEG. 24 HSLa mayoría de las persianas son eléctricas. Cocina equipada con horno ancho eléctrico Ariston, anafe a gas Ariston y campana Ariston. Heladera grande Electrolux y microondas.Lavadero con máquinas de lavado y secado.                                                                                                                                                                                                                                                                                                                                                                                                                                                                                                                                                                                                                                                                                                                                                                                                                                                                                                                                                                                                                                                                                                                                                                                                                                                                     \n",
       "58      -Divino depto al frente en impecable estado, a nuevo, todo reciclado, en edificio de categoría. Seguridad 24 horas, en excelente zona de Recoleta.  -3 ambientes + terraza en 92m2: Living comedor que dan a terraza, enormes aberturas, muy luminoso + un dormitorio grande con espacio para escritorio. Al contrafrente y con mucha luz otro dormitorio en suite,-Moderna cocina y lavadero mas otro baño completo.-Reciclado con muy buenos materiales y detalles de categoría; pisos de porcelanato, buenas aberturas. Piso alto. Muy buena vista.                                                                                                                                                                                                                                                                                                                                                                                                                                                                                                                                                                                                                                                                                                                                                                                                                                                                                                                                                                                                                                                                                                                                                                                                                                     \n",
       "61      -Excelente y luminoso depto al frente de 197 m2, y 155 m2 cubiertos en  edificio de primera categoría de 18 pisos sobre Callao.-Muy buena recepción, piso parquet, 1 cochera cubierta, lavadero, dependencias y baulera individual. -1 suite + 2 dormitorios con baño -Muy buena cocina. -Gran balcón al frente.-Palier individual. -Vigilancia 24hs.                                                                                                                                                                                                                                                                                                                                                                                                                                                                                                                                                                                                                                                                                                                                                                                                                                                                                                                                                                                                                                                                                                                                                                                                                                                                                                                                                                                                                                      \n",
       "68      Excelente piso con balcón al frente. Plano invertido y doble circulación. Palier privado, hall, living comedor con grandes ventanales al aire luz del edificio. 3 Dormitorios, 1 en Suite y 2 al frente con salida al balcón. 2 baños completos. Cocina, comedor diario y lavadero. Dependencia de servicio y baño de servicio. Pisos de parquet. Baulera. Se puede modificar el plano con pequeñas reformas.RV BrokerContacto:  // 15-                                                                                                                                                                                                                                                                                                                                                                                                                                                                                                                                                                                                                                                                                                                                                                                                                                                                                                                                                                                                                                                                                                                                                                                                                                                                                                                                                    \n",
       "74      EN EDIFICIO ESTILO RACIONALISTA, INMUEBLE RECICLADO TOTALMENTE A NUEVO, CON FINOS DETALLES Y MATERIALES DE GRAN CALIDAD. SOLO PARA EXIGENTES!! 92 M2 CON ENTRADA PRINCIPAL Y ENTRADA DE SERVICIO, AL FRENTE, GRAN LIVING 12 X 4, DORMITORIO 4 X 4, LAVADERO, COCINA Y DEPENDENCIA DE SERVICIO COMPLETATAMBIÉN PUEDEN CONTACTARME POR WHATSAPP 11                                                                                                                                                                                                                                                                                                                                                                                                                                                                                                                                                                                                                                                                                                                                                                                                                                                                                                                                                                                                                                                                                                                                                                                                                                                                                                                                                                                                                                           \n",
       "79      Piso de 8 ambientes, al frente con patio. Importante recepción, living apaisado y gran comedor. toilette de recepción. Cocina y Playroon con doble circulacion, muy cálido, patio con parrilla. Amplios dormitorios uno en suite. Hermosas vistas a jardín arbolado. Muy luminoso y silencioso. Categoría y buen gusto para casa en Santa Fe y Callao. Bajas expensas. Cochera en alquiler en la cuadra.                                                                                                                                                                                                                                                                                                                                                                                                                                                                                                                                                                                                                                                                                                                                                                                                                                                                                                                                                                                                                                                                                                                                                                                                                                                                                                                                                                                   \n",
       "                                                                                                                                                                                                          ...                                                                                                                                                                                                                                                                                                                                                                                                                                                                                                                                                                                                                                                                                                                                                                                                                                                                                                                                                                                                                                                                                                                                                                                                                                                                                                                                                                                                                                                                                                                                                                                      \n",
       "1277    Al frente a balcón corrido living y un dormitorio.   Linda recepción sectorizada.  baños y cocina reciclados, ambientes amplios,  el 2º baño es con ducha.   la dependencia esta abierta hacia la cocina, tiene baño de servicio,  buena planta                                                                                                                                                                                                                                                                                                                                                                                                                                                                                                                                                                                                                                                                                                                                                                                                                                                                                                                                                                                                                                                                                                                                                                                                                                                                                                                                                                                                                                                                                                                                            \n",
       "1279    Venta Depto de 4 Ambientes en Av. Santa Fe 1400, Entre Paraná y UruguayLiving ubicado al frente y Comedor, 3 Dormitorios, 2 Baños completos, Cocina amplia y comedor diario, con Balcón y lavadero. Dependencia de servicio, Agua caliente central, Calefacción central, Baulera y Vista PanorámicaSúper Luminoso a Metros de Subte “D” y Av. 9 de Julio. Oportunidad por Ubicación y Precio Superficie Total 218 m2/ EXCELENTE ENTREGA INMEDIATA...!!! Valor Total De la Venta u$s 340.000.-                                                                                                                                                                                                                                                                                                                                                                                                                                                                                                                                                                                                                                                                                                                                                                                                                                                                                                                                                                                                                                                                                                                                                                                                                                                                                              \n",
       "1280    VENTA Depto. de 3 Ambientes en Julián Álvarez 2600 Excelente. Living Comedor al contra frente, Baño Completo, Cocina Integrada con Desayunador, lavadero Incorporado, Luz media a Metros Subte \"B\" Inversión en Inmejorable Zona. Barrio Norte. Superficie Total 65 m2/ EXCELENTE Listo para Mudarse...!!! Valor Total De la Venta u$s 179.000.-                                                                                                                                                                                                                                                                                                                                                                                                                                                                                                                                                                                                                                                                                                                                                                                                                                                                                                                                                                                                                                                                                                                                                                                                                                                                                                                                                                                                                                           \n",
       "1282    OPORTUNIDAD - VENTA URGENTETRIPLEX CON TERRAZA Y 2 COCHERASMuy interesante triplex al contrafrente con gran terraza propia de 40 m2. Piso alto, sumamente silencioso; con sol de mañana y vista a pulmón de manzana muy abierto. 2 cocheras fijas muy bien ubicadas. Vigilancia las 24 hs y cámaras de seguridad. Bajas expensas: 06/17 - $ 7.000 (incluyendo cuota extraordinaria para pintura de frente y aire y luz). Piso 11 - 120 m2 cubiertos Palier semi-privado. Living-comedor con doble altura. 3 dormitorios. 1 baño completo y toilette con espacio para ducha. Office. Gran cocina con comedor de diario y baño. Pisos de roble de Eslavonia. Piso 12 - 45 m2 cubiertos Gran sala con chimenea. Bar. Dormitorio con vista a jardines y baño. Piso 13 - 50 m2 cubiertos + 40 m2 de terraza propia Gran sala de estar con salida a terraza. Baño y cocina.                                                                                                                                                                                                                                                                                                                                                                                                                                                                                                                                                                                                                                                                                                                                                                                                                                                                                                                      \n",
       "1283    CODIGO: 17 ubicado en: Paraguay 1900 -  Publicado por: BRAVO BASILE PROPIEDADES. El precio es de USD 415000 null. Paraguay casi Ayacucho - Hermoso Semipiso con Palier Privado - Todo Luz, Mucho Sol de mañana y de tarde - Balcones Semi aterrazados ambos corridos al frente y al contra frente. Excelente edificio de 40 años próximo a Av. Santa Fé y Callao, todos los transportes y subte línea D. Al frente Hall de ingreso, Gran Living con salida a Balcón al frente, separado con puertas de embutir Comedor formal con salida a Balcón al frente, todo con grandes ventanales. Hay una triple circulación de paso de Living a la cocina, al comedor y de cocina hacia el sector de pasillo que conduce a los dormitorios, como a su vez circulación del living a los dormitorios. Toilette de recepción. Gran pasillo con placard. En la parte posterior se encuentran los 4 dormitorios y dos baños que conforman la parte más privada del depto. (2 al contrafrente con salida al balcón) 1 Dorm. c/baño en suite mas otro baño completo. Muy buenos Placares en los dormitorios. Dependencia de Servicio con su baño de servicio, entrada de Servicio. Cocina comedor Office. Lavadero separado. Baños y cocina reciclados hace unos 10 años. Se encuentra todo recién pintado en perfecto estado. Todos los pisos pulidos y plastificados. COCHERA FIJA + BAULERA. Servicios Centrales de agua caliente y calefacción.  EDIFICIO APTO PROFESIONAL - ENCARGADO Y AYUDANTE LOS FINES DE SEMANA - SISTEMA DE LLAVE ELECTRÓNICA EN PUERTA DE INGRESO  Expensas Julio $8.000.- incluye el valor de AySA  ABL $2.000.- valor mensual  . Publicado a través de Mapaprop                                                                                                            \n",
       "1286    MUY LINDO 2 AMBIENTES AL FRENTE- LUMINOSO IDEAL RENTA! - BAÑO COMPLETO- COCINA SEPARADA- EXCELENTE UBICACION  A POCAS CUADRAS DE AV. CALLAO, AV SANATA FE Y AV. LAS HERAS - TODOS LOS MEDIOS DE TRANSPORTE- SE VENDE ALQUILADO- TRAMITACION DEL COTI  A CARGO DEL PROPIETARIO - ABL $ 225,30- AYSA $108,51- EXPENSAS $ 2700 -                                                                                                                                                                                                                                                                                                                                                                                                                                                                                                                                                                                                                                                                                                                                                                                                                                                                                                                                                                                                                                                                                                                                                                                                                                                                                                                                                                                                                                                              \n",
       "1290    Edificio de muy buena categoría emplazado sobre la Av. 9 de Julio, a metros de Av. Santa Fe. Departamento  con muy buena amplitud y luminosidad. Hall. Doble circulación. Living, comedor y dormitorio principal al frente. Toilette de recepción. Segundo y tercer dormitorio a contrafrente abierto. Dos baños completos. Cocina con comedor diario. Amplio lavadero. Dos dependencias de servicio actualmente unidas con baño propio. Pisos de parquet. Baulera Individual. Dormitorio en el último piso (atelier).                                                                                                                                                                                                                                                                                                                                                                                                                                                                                                                                                                                                                                                                                                                                                                                                                                                                                                                                                                                                                                                                                                                                                                                                                                                                     \n",
       "1291    4 AMBIENTES. FRENTE. 74 M2. TODO A NUEVO. BALCON CORRIDO. TODO SOL. SUITE + BAÑO COMPLETO. COCINA COMPLETA. 3 PLACARDS. SERVICIOS INDIVIDUALES. LAVADERO INCORPORADO. PISOS DE PARQUET. EDIFICIO DE 6 PISOS, 3 X PISO, ASCENSOR.EXPENSAS: $ 3.374.-ENTRE AGUERO Y AUSTRIARECOLETAAVISO LEGAL: Las descripciones arquitectónicas y funcionales, valores de expensas, impuestos y servicios, fotos y medidas de este inmueble son aproximados. Los datos fueron proporcionados por el propietario y pueden no estar actualizados a la hora de la visualización de este aviso por lo cual pueden arrojar inexactitudes y discordancias con las que surgen de los las facturas, títulos y planos legales del inmueble. El interesado deberá realizar las verificaciones respectivas previamente a la realización de cualquier operación, requiriendo por sí o sus profesionales las copias necesarias de la documentación que corresponda.*FichaBrick=1019147* -  - BRICK PROPIEDADES                                                                                                                                                                                                                                                                                                                                                                                                                                                                                                                                                                                                                                                                                                                                                                                                          \n",
       "1293    Oportunidad de  3 ambientes al frente con un amplio Balcón y una excelente vista y mucha luz. Living-comedor rectangular con salida al balcón también cuenta con aires  acondicionados en cada ambientes y ventanales con doble vidrio.Habitaciones amplias con placares y salida al balcón,baño principal y toilette.                                                                                                                                                                                                                                                                                                                                                                                                                                                                                                                                                                                                                                                                                                                                                                                                                                                                                                                                                                                                                                                                                                                                                                                                                                                                                                                                                                                                                                                                     \n",
       "1294    Muy buen semi piso de 3 ambientes, al frente. Muy luminoso y con excelente distribución. Living /comedor, toilette, 2 dormitorios, baño completa, cocina y dependencia de servicio con su baño. Lavadero independiente. Todos los dormitorios y el living dan a amplio balcón corrido.Servicios individuales. Agua caliente por termotanque. Calefacción por tiro balanceado.Aaire acondicionado en Living y en dormitorio.Ubicado  a 2 cuadras de la plaza Barrientos (Las Heras y Pueyrredon) y del subte \"H\".Expensas $2.100 + ABL $1.187Mts a confirmar por escrituraPara mas información recuerde el código de la propiedad: RAP442492                                                                                                                                                                                                                                                                                                                                                                                                                                                                                                                                                                                                                                                                                                                                                                                                                                                                                                                                                                                                                                                                                                                                                \n",
       "1295    VENTA DIRECTA DE DEPARTAMENTO EN BARRIO NORTEExcelente ubicación a una cuadra de Av. 9 de Julio y Av. Córdoba. Cómodo monoambiente.Balcón al frente con cerramiento.Placard en hall de entrada.APTO PROFESIONALKitchenet.Baño completo.Buen estadoVENTA DIRECTA DE DEPARTAMENTO EN BARRIO NORTEEstamos esperando su consulta, Equipo de YesPropiedades                                                                                                                                                                                                                                                                                                                                                                                                                                                                                                                                                                                                                                                                                                                                                                                                                                                                                                                                                                                                                                                                                                                                                                                                                                                                                                                                                                                                                                     \n",
       "1307    Excelente Triplex con Terraza y parrilla propia.  Cuenta con 4 ambientes y dependencia. 170 m2 cubiertos y ... descubiertos.Piso alto con increíble vista a Plaza Barrientos y Facultad de IngenieríaUnidad al frente con gran luminosidad!Ubicado sobre Av Las Heras en Recoleta, uno de los barrio mas distinguidos de la Ciudad de Buenos AiresEl duplex cuenta con dos espacios descubiertos Grandes Un balcón terraza en la primera planta y una terraza en el ultimo Piso.La primera planta cuenta con un gran  Living con salida a balcón aterrazado, Toilette, Cocina y dependencia con bañoLa segunda planta cuenta con 3 habitaciones, 2 de ellas con orientación al frente y 1 baño completo .En la ultima planta se encuentra la  terraza con Parrilla propiaLa Calefacción es central y refrigeración por AA split en todos los ambientes.La Propiedad es apto Crédito con renta hasta Agosto 2017.                                                                                                                                                                                                                                                                                                                                                                                                                                                                                                                                                                                                                                                                                                                                                                                                                                                                           \n",
       "1308    Listo para entrar a vivir!! 5 Ambientes con dependencias, 2 cocheras y baulera. Superficie: 225m2 totales (215m2 Cubiertos)Piso de categoría totalmente reciclado a nuevo - Torre en la mejor ubicación con seguridad 24 horas, Castex y San Martin de Tours. Excelente distribución, Increibles vistas, súper luminoso!!!Palier privado, todos los ambientes externos y súper luminosos, hall de entrada con toilette y placard de recepción, amplio living y comedor apaisados (12x5) al frente con pisos de madera entablonada y salida a balcón (10x1.00) con increíbles vistas abiertas, 4 amplios dormitorios con pisos de madera (con posibilidad de 5º dormitorio), 1º gran master suite (4.50x3.60) con gran vestidor y  baño con doble bacha, bañera y ducha separada, 2º dormitorio en suite (4x3.50) con baño reciclado a nuevo, 2  dormitorios mas (3.50x3.10 / 3.20x3.20) con placares, 2 baños completos en suite + 3º baño completo también con doble bacha, hall de distribución con placards, hermosa cocina y comedor diario separado ambos totalmente reciclados (mesadas de mármol, campana de acero inoxidable, muebles de categoría, y mucho más), lavadero independiente y 2 dependencias de servicio con su baño (o sala de planchado). Doble circulación, aire acondicionado frío/calor splits en todos los ambientes, calefacción central por losa radiante, agua caliente central.2 Cocheras fijas. Baulera.TORRE DE GRAN CATEGORÍA - RECICLADO A NUEVO HERMOSO - AMBIENTES AMPLIOS - MUY LUMINOSO - EXCELENTES VISTAS - 2 COCHERAS - SEGURIDAD 24 HORASNO HAY OTRO IGUAL!!!!!VENTA: U$ 1.100.000.-FILIPPO PROPIEDADES                                                                                                                                         \n",
       "1309    RESERVADO 31/07/2017  - RBA Inmobiliaria - Dto de 1 amb al frente en Vta Barrio Norte !!!! dividido en 2 amb . impecable !!! super luminoso. Totalmente amoblado y equipado, ideal inversor. Zona: Recoleta a dos cuadras de Av. Las Heras, gran cantidad de medios de transporte. Facultades etc                                                                                                                                                                                                                                                                                                                                                                                                                                                                                                                                                                                                                                                                                                                                                                                                                                                                                                                                                                                                                                                                                                                                                                                                                                                                                                                                                                                                                                                                                          \n",
       "1310    Excelente 2 ambientes con baño principal y de servicio. el departamento tiene vistas abiertas a los techos del Carrefour de Vicente López y Rodríguez Peña. El edificio tiene entrada por Montevideo frente a la Plaza Vicente LópezSe trata de un departamento  con Hall de entrada Living Comedor de 3.5x7 mts Baño completo en Suite y Dormitorio de 4,5x3.5 mts con puerta corrediza que comunica con el living. Ambos comunican con el contrafrente que tiene vistas abiertas y es muy luminoso.La cocina tiene lavadero baño de servicio y espacio para comedor diario.El edificio tiene dos semipisos por planta, dos ascensores semi automáticos renovados. Sistema de Cámara de Seguridad en el Palier.Transportes Cercanos Colectivos:\\t10, 17, 37, 39, 59, 60, 75, 101, 102, 106, 108, 110, 111, 124, 150, 152                                                                                                                                                                                                                                                                                                                                                                                                                                                                                                                                                                                                                                                                                                                                                                                                                                                                                                                                                                  \n",
       "1311    Para exigentes. Ideal pareja. Intima , elegante y muy luminosa propiedad. Excelente estado y perfecta  distribución. AL FRENTE distinguido Living Comedor de 22 m2 y habitación -escritorio de 12 m2 ambos  con salida a Balcón corrido  con hermosas vistas y sin edificio enfrente. Baño completo reciclado  a estrenar y toilette. AL CONTRAFRENTE.  luminosa  y tranquila habitación con amplio placard  de 16 m2. Cocina reciclada- Lavadero y dependencia o-comedor de diario. Parquet impecable y ventanas  nuevos  de DOBLE cristal en toda la casa. Cortina corredizas. Bajas Expensas que incluyen  servicios centrales de agua y calefacción por  losa radiante. NO APTO CRÉDITO .:NO APTO  PROFESIONAL.Para cualquier consulta o visita favor de contactar con Humberto López. 15 Grupo Mega Op. ScalabriniTel: Av Scalabrini Ortiz 393 - Villa Crespo. CABA                                                                                                                                                                                                                                                                                                                                                                                                                                                                                                                                                                                                                                                                                                                                                                                                                                                                                                                   \n",
       "1313    Semipiso Muy Luminoso!!!  Palier privado. Entrada principal y de servicio.Living y comedor en L al frente, con salida al balcon corrido con orientación al Rio. Toilette de recepcion. Dos dormitorios al frente, con placard y salida al balcon. Tercer dormitorio con placard, lateral, muy luminoso. Baño completo con ventilacion externa.Cocina amplia con office  y lavadero aparte. Dependencias de servicio con baño.Calefaccion por aire con caldera individual. CUCICBA Mat. 1544Cel. Sucursal Recoleta 1536902763                                                                                                                                                                                                                                                                                                                                                                                                                                                                                                                                                                                                                                                                                                                                                                                                                                                                                                                                                                                                                                                                                                                                                                                                                                                               \n",
       "1314    Exclusivo departamento en duplex de 4 ambientes  con balcón terraza en Edificio The Edge de máxima categoría. Construcción Baylac Wasserman. Importante unidad  de 151m2 totales (127m2 cubiertos + balcón terraza) con cochera.Amplio living comedor con pisos de porcelanato simil mármol  y salida a increíble balcón terraza al frente con deck y espectaculares vistas abiertas a ciudad y río. Cocina completa con horno y anafe italianos y mesadas de Corian. Despensa. Todo luz y sol. Toilette. Dependencia de servicio con baño privado.  En planta superior primer dormitorio con placard al frente. Segundo dormitorio también al frente, con placard y baño completo en suite con hidromasajes. Placard en pasillo. Tercer dormitorio en suite con antebaño, placard y vistas a lateral al río.  Puerta blindada.  La unidad se entrega totalmente terminada con detalles de categoría. Todos los placards con interiores. Paredes empapeladas con productos holandeses. Griferías FV, sanitarios Roca, todos los ventanales con doble vidriado hermético. Deck sin mantenimiento. Calefacción por losa radiante individual con control por ambiente. Todos los amenities: Piscina descubierta climatizadaGimnasioVestuariosSalón de usos múltiplesÁreas parquizadas con riego automáticoLaundrySector ParrillasEstacionamiento de cortesíaAscensores MistubishiInmejorable ubicación a solo dos cuadras de Av. Coronel Díaz y plaza Las Heras, a tres cuadras de Av. Del Libertador y a pocas cuadras de Av. Santa Fe con todos los medios de transporte.¿Necesitás Vender para Comprar?Te ayudamos a encontrar tu próxima propiedadT. WHATSAPP 15- que una Inmobiliaria\"Las medidas, superficies y valores de esta ficha son aproximadas y a título informativo únicamente.\n",
       "1315    Luminoso departamento al frente con excelente distribución  y linda vista abierta (desde un generoso balcón), a la calle Juncal y Plazoleta “A. P. Astengo y su típica fuente” en esq. c/Rodríguez Peña. Todos los ambientes son amplios, luminosos y ventilados. 3 Dormitorios de amplias dimensiones, con amplios placares. Office.  Cocina con comedor de diario y dependencia. 2 baños completos, uno en suite.  AySA incluido en expensas. Vigilancia nocturna, de 21:00 a 06:00 hs. Muy buen estado de conservación. Excelente ubicación a media cuadra de Av. Callao, 2 de Av. Sta Fe y 1 de la Plaza Vicente Lopez. Edificio diseñado por el reconocido Arq Jorge Bunge (racionalista), catalogado por su calidad edilicia y construir una referencia formal y cultural del área. Vale la pena visitarlo ! Venta para posesión inmediata.Mat. CUCICBA 6759                                                                                                                                                                                                                                                                                                                                                                                                                                                                                                                                                                                                                                                                                                                                                                                                                                                                                                                         \n",
       "1317    Balcón con parrilla.Baulera: Unidad complementaria II en PBSemipiso. Living/Comedor. 2 dormitorio(s). 1 baño(s).Habitación de servicio. Entre medianeras. Al frente. Luminoso. Orientación Noroeste. Antigüedad 42 años.                                                                                                                                                                                                                                                                                                                                                                                                                                                                                                                                                                                                                                                                                                                                                                                                                                                                                                                                                                                                                                                                                                                                                                                                                                                                                                                                                                                                                                                                                                                                                                   \n",
       "1325    Emprendimiento en Recoleta, entrega a 24 meses. Excelente ubicación, esquina de Av. Córdoba y Agüero. Financiación: 30% anticipo (38.700 USD) + cuotas en pesos según el C.A.C (índice de la Cámara de construcción). Constará de living con salida a balcón corrido al frente, cocina independiente, toilett de invitados, dormitorio en suite. 47,5 m2 cubiertos y 6.9 m2 de balcón. Edificio con SUM y laundry.                                                                                                                                                                                                                                                                                                                                                                                                                                                                                                                                                                                                                                                                                                                                                                                                                                                                                                                                                                                                                                                                                                                                                                                                                                                                                                                                                                         \n",
       "1326    Emprendimiento en Recoleta, entrega a 24 meses. Excelente ubicación, esquina de Av. Córdoba y Agüero. Financiación: 30% anticipo (51.000 USD) + cuotas en pesos según el C.A.C (índice de la Cámara de construcción). 3 ambientes y dependencia. Constará de living con salida a balcón corrido al frente, cocina independiente, dormitorio principal en suite, segundo dormitorio, segundo baño completo, dependencia y toillete de servicio.  58,6 m2 cubiertos y 10 m2 de balcón. Edificio con SUM y laundry.                                                                                                                                                                                                                                                                                                                                                                                                                                                                                                                                                                                                                                                                                                                                                                                                                                                                                                                                                                                                                                                                                                                                                                                                                                                                           \n",
       "1327    Departamento de 3 ambientes en Barrio Norte. Muy luminoso y aireado, al frente. Excelente ubicación, a media cuadra de Av. Santa Fe y estación Agüero de subte linea D.  Cuenta con living-comedor con salida a balcón corrido, cocina semi incorporada con barra pasaplatos, hall de distribución, dormitorio principal en suite y con amplios placares, segundo dormitorio y segundo baño con ducha. Piso de parquet. Edificio con pileta, gimnasio y laundry. La venta del Inmueble referido se encuentra sujeta a la tramitación del Código de Oferta de Transferencia de Inmuebles (C.O.T.I.) por parte del propietario.                                                                                                                                                                                                                                                                                                                                                                                                                                                                                                                                                                                                                                                                                                                                                                                                                                                                                                                                                                                                                                                                                                                                                              \n",
       "1330    Muy lindo departamento al frente con amplia vista. Orientación Este. Living comedor, dos dormitorios, 1 baño, cocina, dependencia y baño de servicio. Lavadero.Matriculado:Martín LottiCPI 2989                                                                                                                                                                                                                                                                                                                                                                                                                                                                                                                                                                                                                                                                                                                                                                                                                                                                                                                                                                                                                                                                                                                                                                                                                                                                                                                                                                                                                                                                                                                                                                                            \n",
       "1333    Departamento de un ambiente  Al frente, muy luminoso. Muy buen estado. Se entrega con split frío-calor. Excelente ubicacion, a 3 cuadras del Alto Palermo y media cuadra de Av. Santa Fe (línea D de subte y numerosas líneas de colectivo). Apto profesional. Apto crédito bancario. Se deja constancia que las medidas (tanto totales como parciales), superficies, m2 y proporciones indicadas en el presente son aproximadas y sujetas a verificación, variación y/o ajuste. Las expensas pueden sufrir variaciones.BIENVENDE AMELIA CLAROBIENVENDE AMELIA CLAROAv. Federico Lacroze 23554778-                                                                                                                                                                                                                                                                                                                                                                                                                                                                                                                                                                                                                                                                                                                                                                                                                                                                                                                                                                                                                                                                                                                                                                                         \n",
       "1336    URUGUAY y ARENALES esquina,Edificio de aproximadamente 40 años, desarrollado en dos cuerpos con doce pisos cada uno ,con palier privado.  Se trata de un piso al frente. Cuenta con un hall de recepción desde donde accedemos al living-y comedor separado por puertas corredizas con salida al balcón corrido. Del comedor se accede a un patio conectado también con el lavadero. EL area privada esta compuesta por tres dormitorios, dos al frente y el tercero al aire luz.. Todos  de buen tamaño, con placards.Un baño completo. otro con ducha. Cocina amplia con espacio para con comedor diario. Lavadero independiente. Dependencia de servicio. Doble circulación. Los pisos son de parquet. Los baños y la  cocina se encuentran de época.Una Cochera  fija y baulera cerrada, Vig. 24 hs.Dos ascensores principales y uno de servicio.,Encargado con vivienda.LJRAMOS BROKERS INMOBILIARIOS S.A. || Gastos - Expensas Comunes: $14.000 (JUNIO 2017) || Medidas - Total: 165.16 m2                                                                                                                                                                                                                                                                                                                                                                                                                                                                                                                                                                                                                                                                                                                                                                                           \n",
       "1339    French y Av. PueyrredónDepartamento de tres ambientes con dependencias  en edificio de estilo NeoclasicoA REFACCIONAR.    Departamento desocupado.  La venta no esta condicionada a una operación de compra. Escrituracion por tracto abreviado.Semi- piso al frente. Living - comedor, dos dormitorios, baño, cocina, habitación de servicio con baño. Pisos de roble, Todos los ambientes tienen ventilación al  exterior.Once departamentos en total.   Un ascensor. Portería, medio día.    Ubicacion privilegiadaLos datos , medidas y demás circunstancias son meramente orientativos y están sujetos a revisión y/o verificación.Martillero y Corredor responsable: Daniel Lavorel CSI 6239 - CUCICBA 6319Martillero y Corredor responsable: Daniel Lavorel  CSI 6239 - CUCICBA 6319                                                                                                                                                                                                                                                                                                                                                                                                                                                                                                                                                                                                                                                                                                                                                                                                                                                                                                                                                                                                \n",
       "1340    Semi piso en Torre,  luminosidad excelente, orientación Nor-Este. Edificio de categoría con importante hall de entrada, seguridad nocturna y fines de semana. Gran Hall de entrada, Living, Comedor, Master Suite con gran vestidor o escritorio,  dormitorio, cocina con office y lavadero grande. Doble circulación , Balcón corrido al frente y balcón francés en suite y dormitorio.Cochera cubierta fija y baulera grande. Todo en perfecto estado. SABATINI NEGOCIOS INMOBILIARIOS. Av. Cabildo 790 , 011- /  /  / TASAMOS SU PROPIEDAD HOY / TOMAMOS SU PROPIEDAD EN PARTE DE PAGO.                                                                                                                                                                                                                                                                                                                                                                                                                                                                                                                                                                                                                                                                                                                                                                                                                                                                                                                                                                                                                                                                                                                                                                                                 \n",
       "1343    Excelente semipiso al frente de 4 ambientes. Edificio de estilo Racionalista.Lleno de luz y sol. 2 Dormitorios amplios y escritorio (posibilidad 3er dormitorio) con pisos de pinotea, principal en suite. Living comedor con pisos de roble. 2 baños completos y toillette de recepcion. Cocina office con lavadero incorporado.Aire acondicionado frio/calor en todos los ambientes.Totalmente reciclado a nuevo.SUPER LUMINOSO!!CUCICBA Mat. 1544Cel. Sucursal Recoleta 1536902763                                                                                                                                                                                                                                                                                                                                                                                                                                                                                                                                                                                                                                                                                                                                                                                                                                                                                                                                                                                                                                                                                                                                                                                                                                                                                                      \n",
       "1345    Excelente Ubicación - Avenida Pueyrredon y Las Heras - Ideal como inversiónMonoambiente 45 m2 con cocina americana, piso de madera, baño completo y amplio, aire acondicionado frio calorLa unidad es al frente, con balcón a la calle, doble vidrioMuy luminosoEdificio con Parrilla, Laundry y solarium* Las medidas son aproximadas, las reales surgiran de la escritura correspondiente                                                                                                                                                                                                                                                                                                                                                                                                                                                                                                                                                                                                                                                                                                                                                                                                                                                                                                                                                                                                                                                                                                                                                                                                                                                                                                                                                                                                \n",
       "Name: descripcion, Length: 512, dtype: object"
      ]
     },
     "execution_count": 29,
     "metadata": {},
     "output_type": "execute_result"
    }
   ],
   "source": [
    "dfFiltrado[dfFiltrado['descripcion'].str.lower().str.contains(' frente')]['descripcion']"
   ]
  },
  {
   "cell_type": "code",
   "execution_count": 30,
   "metadata": {},
   "outputs": [
    {
     "data": {
      "text/plain": [
       "(1346, 30)"
      ]
     },
     "execution_count": 30,
     "metadata": {},
     "output_type": "execute_result"
    }
   ],
   "source": [
    "dfFiltrado.shape"
   ]
  },
  {
   "cell_type": "code",
   "execution_count": 31,
   "metadata": {},
   "outputs": [
    {
     "data": {
      "text/plain": [
       "Index(['barrio', 'geonames_id', 'latitud', 'longitud', 'precio_usd',\n",
       "       'superficie_m2', 'superficie_cubierta', 'precio_usd_m2', 'piso',\n",
       "       'habitaciones', 'expensas', 'properati_url', 'descripcion', 'titulo',\n",
       "       'imagen', 'geom_x', 'estacion_mas_cercanan_x',\n",
       "       'dist_estacion_mas_cercana_x', 'estacion_mas_cercanap_x',\n",
       "       'distiso500_100', 'distiso1000_100', 'isopuntosimp2000_200',\n",
       "       'punto_mas_cercanan', 'dist_punto_mas_cercana', 'punto_mas_cercanap',\n",
       "       'subtegoo_x', 'subtegoo_y', 'puntosgoo', 'puntosgoo2', 'frente'],\n",
       "      dtype='object')"
      ]
     },
     "execution_count": 31,
     "metadata": {},
     "output_type": "execute_result"
    }
   ],
   "source": [
    "dfFiltrado.columns"
   ]
  },
  {
   "cell_type": "code",
   "execution_count": 32,
   "metadata": {},
   "outputs": [
    {
     "data": {
      "text/plain": [
       "(1346, 30)"
      ]
     },
     "execution_count": 32,
     "metadata": {},
     "output_type": "execute_result"
    }
   ],
   "source": [
    "dfFiltrado.drop_duplicates(subset=['barrio', 'precio_usd',\n",
    "       'superficie_m2', 'superficie_cubierta', 'precio_usd_m2', 'piso',\n",
    "       'habitaciones', 'frente']).shape"
   ]
  },
  {
   "cell_type": "code",
   "execution_count": 33,
   "metadata": {},
   "outputs": [],
   "source": [
    "dfFiltrado = dfFiltrado.drop_duplicates(subset=['barrio', 'precio_usd',\n",
    "       'superficie_m2', 'superficie_cubierta', 'precio_usd_m2', 'piso',\n",
    "       'habitaciones', 'frente'])"
   ]
  },
  {
   "cell_type": "code",
   "execution_count": 34,
   "metadata": {},
   "outputs": [],
   "source": [
    "dfFiltrado['de_lujo'] = (dfFiltrado['descripcion'].str.lower().str.contains('amenities') | dfFiltrado['descripcion'].str.lower().str.contains('pileta') | dfFiltrado['descripcion'].str.lower().str.contains('parrilla') | dfFiltrado['descripcion'].str.lower().str.contains('gimnasio') | dfFiltrado['descripcion'].str.lower().str.contains(' sum ') | dfFiltrado['descripcion'].str.lower().str.contains('piscina') | dfFiltrado['descripcion'].str.lower().str.contains('solarium') | dfFiltrado['descripcion'].str.lower().str.contains('quincho') | dfFiltrado['titulo'].str.lower().str.contains('amenities') | dfFiltrado['titulo'].str.lower().str.contains('pileta') | dfFiltrado['titulo'].str.lower().str.contains('parrilla') | dfFiltrado['titulo'].str.lower().str.contains('gimnasio') | dfFiltrado['titulo'].str.lower().str.contains(' sum ') | dfFiltrado['titulo'].str.lower().str.contains('piscina') | dfFiltrado['titulo'].str.lower().str.contains('solarium') | dfFiltrado['titulo'].str.lower().str.contains('quincho')).apply(lambda x: 1 if x == True else 0)"
   ]
  },
  {
   "cell_type": "code",
   "execution_count": 35,
   "metadata": {},
   "outputs": [
    {
     "data": {
      "text/plain": [
       "0    1073\n",
       "1    273 \n",
       "Name: de_lujo, dtype: int64"
      ]
     },
     "execution_count": 35,
     "metadata": {},
     "output_type": "execute_result"
    }
   ],
   "source": [
    "dfFiltrado['de_lujo'].value_counts()"
   ]
  },
  {
   "cell_type": "code",
   "execution_count": 36,
   "metadata": {},
   "outputs": [],
   "source": [
    "dfFiltrado['balcon'] = (dfFiltrado['descripcion'].str.lower().str.contains('balcon') | dfFiltrado['descripcion'].str.lower().str.contains('balcón')).apply(lambda x: 1 if x == True else 0)"
   ]
  },
  {
   "cell_type": "code",
   "execution_count": 37,
   "metadata": {},
   "outputs": [
    {
     "data": {
      "text/plain": [
       "0    707\n",
       "1    639\n",
       "Name: balcon, dtype: int64"
      ]
     },
     "execution_count": 37,
     "metadata": {},
     "output_type": "execute_result"
    }
   ],
   "source": [
    "dfFiltrado['balcon'].value_counts()"
   ]
  },
  {
   "cell_type": "code",
   "execution_count": 38,
   "metadata": {},
   "outputs": [],
   "source": [
    "dfFiltrado['apto_profesional'] = (dfFiltrado['descripcion'].str.lower().str.contains('apto profesional') | dfFiltrado['titulo'].str.lower().str.contains('apto profesional') | dfFiltrado['descripcion'].str.lower().str.contains('profesional') | dfFiltrado['titulo'].str.lower().str.contains('profesional')).apply(lambda x: 1 if x == True else 0)"
   ]
  },
  {
   "cell_type": "code",
   "execution_count": 39,
   "metadata": {},
   "outputs": [
    {
     "data": {
      "text/plain": [
       "0    1086\n",
       "1    260 \n",
       "Name: apto_profesional, dtype: int64"
      ]
     },
     "execution_count": 39,
     "metadata": {},
     "output_type": "execute_result"
    }
   ],
   "source": [
    "dfFiltrado['apto_profesional'].value_counts()"
   ]
  },
  {
   "cell_type": "code",
   "execution_count": 40,
   "metadata": {},
   "outputs": [
    {
     "data": {
      "text/plain": [
       "(1346, 33)"
      ]
     },
     "execution_count": 40,
     "metadata": {},
     "output_type": "execute_result"
    }
   ],
   "source": [
    "dfFiltrado.shape"
   ]
  },
  {
   "cell_type": "code",
   "execution_count": null,
   "metadata": {},
   "outputs": [],
   "source": [
    "\n"
   ]
  },
  {
   "cell_type": "code",
   "execution_count": null,
   "metadata": {},
   "outputs": [],
   "source": []
  },
  {
   "cell_type": "code",
   "execution_count": 41,
   "metadata": {},
   "outputs": [],
   "source": [
    "dfFiltrado.loc[np.isnan(dfFiltrado['piso']),'piso'] = (dfFiltrado[np.isnan(dfFiltrado['piso'])]['descripcion'].str.lower().str.contains('primer piso') | dfFiltrado[np.isnan(dfFiltrado['piso'])]['descripcion'].str.lower().str.contains('1º piso') | dfFiltrado[np.isnan(dfFiltrado['piso'])]['descripcion'].str.lower().str.contains('1er piso')).apply(lambda x: 1 if x == True else np.nan)"
   ]
  },
  {
   "cell_type": "code",
   "execution_count": 42,
   "metadata": {},
   "outputs": [],
   "source": [
    "dfFiltrado.loc[np.isnan(dfFiltrado['piso']),'piso'] = (dfFiltrado[np.isnan(dfFiltrado['piso'])]['descripcion'].str.lower().str.contains('segundo piso') | dfFiltrado[np.isnan(dfFiltrado['piso'])]['descripcion'].str.lower().str.contains('2º piso') | dfFiltrado[np.isnan(dfFiltrado['piso'])]['descripcion'].str.lower().str.contains('2do piso')).apply(lambda x: 2 if x == True else np.nan)"
   ]
  },
  {
   "cell_type": "code",
   "execution_count": 43,
   "metadata": {},
   "outputs": [],
   "source": [
    "dfFiltrado.loc[np.isnan(dfFiltrado['piso']),'piso'] = (dfFiltrado[np.isnan(dfFiltrado['piso'])]['descripcion'].str.lower().str.contains('tercer piso') | dfFiltrado[np.isnan(dfFiltrado['piso'])]['descripcion'].str.lower().str.contains('3º piso') | dfFiltrado[np.isnan(dfFiltrado['piso'])]['descripcion'].str.lower().str.contains('3er piso')).apply(lambda x: 3 if x == True else np.nan)"
   ]
  },
  {
   "cell_type": "code",
   "execution_count": 44,
   "metadata": {},
   "outputs": [],
   "source": [
    "dfFiltrado.loc[np.isnan(dfFiltrado['piso']),'piso'] = (dfFiltrado[np.isnan(dfFiltrado['piso'])]['descripcion'].str.lower().str.contains('cuarto piso') | dfFiltrado[np.isnan(dfFiltrado['piso'])]['descripcion'].str.lower().str.contains('4º piso') | dfFiltrado[np.isnan(dfFiltrado['piso'])]['descripcion'].str.lower().str.contains('4to piso')).apply(lambda x: 4 if x == True else np.nan)"
   ]
  },
  {
   "cell_type": "code",
   "execution_count": 45,
   "metadata": {},
   "outputs": [],
   "source": [
    "dfFiltrado.loc[np.isnan(dfFiltrado['piso']),'piso'] = (dfFiltrado[np.isnan(dfFiltrado['piso'])]['descripcion'].str.lower().str.contains('quinto piso') | dfFiltrado[np.isnan(dfFiltrado['piso'])]['descripcion'].str.lower().str.contains('5º piso') | dfFiltrado[np.isnan(dfFiltrado['piso'])]['descripcion'].str.lower().str.contains('5to piso')).apply(lambda x: 5 if x == True else np.nan)"
   ]
  },
  {
   "cell_type": "code",
   "execution_count": 46,
   "metadata": {},
   "outputs": [],
   "source": [
    "dfFiltrado.loc[np.isnan(dfFiltrado['piso']),'piso'] = (dfFiltrado[np.isnan(dfFiltrado['piso'])]['descripcion'].str.lower().str.contains('sexto piso') | dfFiltrado[np.isnan(dfFiltrado['piso'])]['descripcion'].str.lower().str.contains('6º piso') | dfFiltrado[np.isnan(dfFiltrado['piso'])]['descripcion'].str.lower().str.contains('6to piso')).apply(lambda x: 6 if x == True else np.nan)"
   ]
  },
  {
   "cell_type": "code",
   "execution_count": 47,
   "metadata": {},
   "outputs": [],
   "source": [
    "dfFiltrado.loc[np.isnan(dfFiltrado['piso']),'piso'] = (dfFiltrado[np.isnan(dfFiltrado['piso'])]['descripcion'].str.lower().str.contains('séptimo piso') | dfFiltrado[np.isnan(dfFiltrado['piso'])]['descripcion'].str.lower().str.contains('7º piso') | dfFiltrado[np.isnan(dfFiltrado['piso'])]['descripcion'].str.lower().str.contains('7mo piso')).apply(lambda x: 7 if x == True else np.nan)"
   ]
  },
  {
   "cell_type": "code",
   "execution_count": 48,
   "metadata": {},
   "outputs": [],
   "source": [
    "dfFiltrado.loc[np.isnan(dfFiltrado['piso']),'piso'] = (dfFiltrado[np.isnan(dfFiltrado['piso'])]['descripcion'].str.lower().str.contains('octavo piso') | dfFiltrado[np.isnan(dfFiltrado['piso'])]['descripcion'].str.lower().str.contains('8º piso') | dfFiltrado[np.isnan(dfFiltrado['piso'])]['descripcion'].str.lower().str.contains('8vo piso')).apply(lambda x: 8 if x == True else np.nan)"
   ]
  },
  {
   "cell_type": "code",
   "execution_count": 49,
   "metadata": {},
   "outputs": [],
   "source": [
    "dfFiltrado.loc[np.isnan(dfFiltrado['piso']),'piso'] = (dfFiltrado[np.isnan(dfFiltrado['piso'])]['descripcion'].str.lower().str.contains('noveno piso') | dfFiltrado[np.isnan(dfFiltrado['piso'])]['descripcion'].str.lower().str.contains('9º piso') | dfFiltrado[np.isnan(dfFiltrado['piso'])]['descripcion'].str.lower().str.contains('9no piso')).apply(lambda x: 9 if x == True else np.nan)"
   ]
  },
  {
   "cell_type": "code",
   "execution_count": 50,
   "metadata": {},
   "outputs": [],
   "source": [
    "dfFiltrado.loc[np.isnan(dfFiltrado['piso']),'piso'] = (dfFiltrado[np.isnan(dfFiltrado['piso'])]['descripcion'].str.lower().str.contains('décimo piso') | dfFiltrado[np.isnan(dfFiltrado['piso'])]['descripcion'].str.lower().str.contains('10º piso') | dfFiltrado[np.isnan(dfFiltrado['piso'])]['descripcion'].str.lower().str.contains('10mo piso')).apply(lambda x: 10 if x == True else np.nan)"
   ]
  },
  {
   "cell_type": "code",
   "execution_count": 51,
   "metadata": {},
   "outputs": [
    {
     "data": {
      "text/plain": [
       "4.0     236\n",
       "3.0     180\n",
       "1.0     156\n",
       "5.0     139\n",
       "2.0     122\n",
       "6.0     63 \n",
       "7.0     27 \n",
       "8.0     15 \n",
       "12.0    5  \n",
       "10.0    3  \n",
       "9.0     2  \n",
       "Name: habitaciones, dtype: int64"
      ]
     },
     "execution_count": 51,
     "metadata": {},
     "output_type": "execute_result"
    }
   ],
   "source": [
    "dfFiltrado['habitaciones'].value_counts()"
   ]
  },
  {
   "cell_type": "code",
   "execution_count": 52,
   "metadata": {},
   "outputs": [],
   "source": [
    "dfFiltrado.loc[np.isnan(dfFiltrado['habitaciones']),'habitaciones'] = (dfFiltrado[np.isnan(dfFiltrado['habitaciones'])]['descripcion'].str.lower().str.contains('monoambiente') | dfFiltrado[np.isnan(dfFiltrado['habitaciones'])]['descripcion'].str.lower().str.contains('mono-ambiente')).apply(lambda x: 1 if x == True else np.nan)"
   ]
  },
  {
   "cell_type": "code",
   "execution_count": 53,
   "metadata": {},
   "outputs": [],
   "source": [
    "for i in range(2, 10):\n",
    "    dfFiltrado.loc[np.isnan(dfFiltrado['habitaciones']),'habitaciones'] = (dfFiltrado[np.isnan(dfFiltrado['habitaciones'])]['descripcion'].str.lower().str.contains(str(i) + ' habitaciones') | dfFiltrado[np.isnan(dfFiltrado['habitaciones'])]['descripcion'].str.lower().str.contains(str(i) + ' ambientes')).apply(lambda x: i if x == True else np.nan)"
   ]
  },
  {
   "cell_type": "code",
   "execution_count": 54,
   "metadata": {},
   "outputs": [
    {
     "data": {
      "text/plain": [
       "4.0     276\n",
       "3.0     216\n",
       "1.0     208\n",
       "2.0     162\n",
       "5.0     146\n",
       "6.0     64 \n",
       "7.0     27 \n",
       "8.0     15 \n",
       "12.0    5  \n",
       "10.0    3  \n",
       "9.0     2  \n",
       "Name: habitaciones, dtype: int64"
      ]
     },
     "execution_count": 54,
     "metadata": {},
     "output_type": "execute_result"
    }
   ],
   "source": [
    "dfFiltrado['habitaciones'].value_counts()"
   ]
  },
  {
   "cell_type": "code",
   "execution_count": 55,
   "metadata": {},
   "outputs": [],
   "source": [
    "tamanioMedioAmbiente = (dfFiltrado[~np.isnan(dfFiltrado['habitaciones'])]['superficie_m2'] / dfFiltrado[~np.isnan(dfFiltrado['habitaciones'])]['habitaciones']).mean()"
   ]
  },
  {
   "cell_type": "code",
   "execution_count": 56,
   "metadata": {},
   "outputs": [],
   "source": [
    "dfFiltrado.loc[np.isnan(dfFiltrado['habitaciones']),'habitaciones'] = (dfFiltrado[np.isnan(dfFiltrado['habitaciones'])]['superficie_m2'] / tamanioMedioAmbiente).astype(int)"
   ]
  },
  {
   "cell_type": "code",
   "execution_count": 57,
   "metadata": {},
   "outputs": [
    {
     "data": {
      "text/plain": [
       "(1346,)"
      ]
     },
     "execution_count": 57,
     "metadata": {},
     "output_type": "execute_result"
    }
   ],
   "source": [
    "dfFiltrado['habitaciones'].shape"
   ]
  },
  {
   "cell_type": "code",
   "execution_count": 58,
   "metadata": {},
   "outputs": [
    {
     "data": {
      "text/plain": [
       "(1346, 33)"
      ]
     },
     "execution_count": 58,
     "metadata": {},
     "output_type": "execute_result"
    }
   ],
   "source": [
    "pd.set_option('display.max_colwidth', 10)\n",
    "dfFiltrado.shape"
   ]
  },
  {
   "cell_type": "markdown",
   "metadata": {
    "slideshow": {
     "slide_type": "subslide"
    }
   },
   "source": [
    "# Filtrar los Datos\n",
    "\n",
    "En general, los mdoelos de precios suelen tener un carácter local. Es por eso que deberán elegir alguna zona o provincia para trabajar y estimar el modelo en base a dicha selección."
   ]
  },
  {
   "cell_type": "code",
   "execution_count": 59,
   "metadata": {
    "focus": false,
    "id": "4e3908e8-a791-40a5-90d9-1d0802247ed6"
   },
   "outputs": [
    {
     "data": {
      "text/plain": [
       "Index(['barrio', 'geonames_id', 'latitud', 'longitud', 'precio_usd',\n",
       "       'superficie_m2', 'superficie_cubierta', 'precio_usd_m2', 'piso',\n",
       "       'habitaciones', 'expensas', 'properati_url', 'descripcion', 'titulo',\n",
       "       'imagen', 'geom_x', 'estacion_mas_cercanan_x',\n",
       "       'dist_estacion_mas_cercana_x', 'estacion_mas_cercanap_x',\n",
       "       'distiso500_100', 'distiso1000_100', 'isopuntosimp2000_200',\n",
       "       'punto_mas_cercanan', 'dist_punto_mas_cercana', 'punto_mas_cercanap',\n",
       "       'subtegoo_x', 'subtegoo_y', 'puntosgoo', 'puntosgoo2', 'frente',\n",
       "       'de_lujo', 'balcon', 'apto_profesional'],\n",
       "      dtype='object')"
      ]
     },
     "execution_count": 59,
     "metadata": {},
     "output_type": "execute_result"
    }
   ],
   "source": [
    "# Filtrar la zona elegida para estimar el modelo\n",
    "\n",
    "dfFiltrado.columns"
   ]
  },
  {
   "cell_type": "code",
   "execution_count": 60,
   "metadata": {},
   "outputs": [],
   "source": [
    "dfAuxiliar = dfFiltrado[['latitud', 'longitud', 'superficie_m2', 'superficie_cubierta', 'precio_usd_m2', \n",
    "                        'habitaciones',\n",
    "       'dist_estacion_mas_cercana_x', \n",
    "       'distiso500_100', 'distiso1000_100', 'isopuntosimp2000_200',\n",
    "       'dist_punto_mas_cercana', 'subtegoo_y','puntosgoo2','puntosgoo',\n",
    "        'frente', 'de_lujo', 'balcon',\n",
    "       'apto_profesional']]"
   ]
  },
  {
   "cell_type": "code",
   "execution_count": 61,
   "metadata": {},
   "outputs": [],
   "source": [
    "dfFiltrado = dfAuxiliar[['superficie_m2', 'superficie_cubierta', 'precio_usd_m2', \n",
    "                        'habitaciones',\n",
    "       'dist_estacion_mas_cercana_x', \n",
    "       'distiso500_100', 'distiso1000_100', 'isopuntosimp2000_200',\n",
    "       'dist_punto_mas_cercana', 'subtegoo_y','puntosgoo2','puntosgoo',\n",
    "        'frente', 'de_lujo', 'balcon',\n",
    "       'apto_profesional']]"
   ]
  },
  {
   "cell_type": "code",
   "execution_count": 62,
   "metadata": {},
   "outputs": [],
   "source": [
    "dfFiltrado = dfFiltrado[dfFiltrado['subtegoo_y']%1==0]\n",
    "dfFiltrado = dfFiltrado[dfFiltrado['puntosgoo2']%1==0]"
   ]
  },
  {
   "cell_type": "code",
   "execution_count": 63,
   "metadata": {},
   "outputs": [
    {
     "data": {
      "text/plain": [
       "(3, 16)"
      ]
     },
     "execution_count": 63,
     "metadata": {},
     "output_type": "execute_result"
    }
   ],
   "source": [
    "dfFiltrado[dfFiltrado[\"precio_usd_m2\"]<600].shape"
   ]
  },
  {
   "cell_type": "code",
   "execution_count": 64,
   "metadata": {},
   "outputs": [],
   "source": [
    "dfFiltrado = dfFiltrado[dfFiltrado[\"precio_usd_m2\"]>600]\n"
   ]
  },
  {
   "cell_type": "code",
   "execution_count": 65,
   "metadata": {},
   "outputs": [
    {
     "data": {
      "text/plain": [
       "Index(['superficie_m2', 'superficie_cubierta', 'precio_usd_m2', 'habitaciones',\n",
       "       'dist_estacion_mas_cercana_x', 'distiso500_100', 'distiso1000_100',\n",
       "       'isopuntosimp2000_200', 'dist_punto_mas_cercana', 'subtegoo_y',\n",
       "       'puntosgoo2', 'puntosgoo', 'frente', 'de_lujo', 'balcon',\n",
       "       'apto_profesional'],\n",
       "      dtype='object')"
      ]
     },
     "execution_count": 65,
     "metadata": {},
     "output_type": "execute_result"
    }
   ],
   "source": [
    "dfFiltrado.columns"
   ]
  },
  {
   "cell_type": "code",
   "execution_count": 66,
   "metadata": {},
   "outputs": [
    {
     "data": {
      "text/plain": [
       "<matplotlib.axes._subplots.AxesSubplot at 0xbf83160>"
      ]
     },
     "execution_count": 66,
     "metadata": {},
     "output_type": "execute_result"
    },
    {
     "data": {
      "image/png": "[encoded data removed]",
      "text/plain": [
       "<matplotlib.figure.Figure at 0xbf97198>"
      ]
     },
     "metadata": {},
     "output_type": "display_data"
    }
   ],
   "source": [
    "plt.rcParams[\"figure.figsize\"] = [15.0, 12.0]\n",
    "sns.boxplot(data=dfFiltrado.loc[:, dfFiltrado.columns != 'precio_usd_m2'].iloc[:,:-4])"
   ]
  },
  {
   "cell_type": "code",
   "execution_count": 67,
   "metadata": {},
   "outputs": [],
   "source": [
    "#SEPARO TRAIN Y TEST\n",
    "import seaborn as sns\n",
    "from sklearn import datasets\n",
    "from sklearn.model_selection import train_test_split, KFold, cross_val_score\n",
    "from sklearn.linear_model import LinearRegression, Lasso, LassoCV, Ridge, RidgeCV\n",
    "from sklearn.preprocessing import PolynomialFeatures, StandardScaler\n",
    "from sklearn.metrics import mean_squared_error, r2_score"
   ]
  },
  {
   "cell_type": "code",
   "execution_count": 68,
   "metadata": {},
   "outputs": [],
   "source": [
    "X = dfFiltrado.loc[:, dfFiltrado.columns != 'precio_usd_m2']"
   ]
  },
  {
   "cell_type": "code",
   "execution_count": 69,
   "metadata": {},
   "outputs": [],
   "source": [
    "X = StandardScaler().fit_transform(X)"
   ]
  },
  {
   "cell_type": "code",
   "execution_count": 70,
   "metadata": {},
   "outputs": [],
   "source": [
    "#X = PolynomialFeatures(2,include_bias=True,interaction_only=False).fit_transform(X)"
   ]
  },
  {
   "cell_type": "code",
   "execution_count": 71,
   "metadata": {},
   "outputs": [],
   "source": [
    "y = dfFiltrado['precio_usd_m2']"
   ]
  },
  {
   "cell_type": "code",
   "execution_count": 72,
   "metadata": {},
   "outputs": [
    {
     "name": "stdout",
     "output_type": "stream",
     "text": [
      "(817, 15) (817,)\n",
      "(351, 15) (351,)\n"
     ]
    }
   ],
   "source": [
    "X_train, X_test, y_train, y_test = train_test_split(X, y, test_size=0.3, random_state=53)\n",
    "print(X_train.shape, y_train.shape)\n",
    "print(X_test.shape, y_test.shape)"
   ]
  },
  {
   "cell_type": "code",
   "execution_count": 73,
   "metadata": {},
   "outputs": [],
   "source": [
    "\n",
    "al_ridge = np.linspace(0.001, 0.3, 300)\n",
    "al_lasso = np.linspace(0.1, 0.8, 300)\n",
    "kf = KFold(n_splits=5, shuffle=True, random_state=53)\n",
    "\n",
    "\n",
    "lm = LinearRegression()\n",
    "lmRidgeCV = RidgeCV(alphas=al_ridge, cv=kf, normalize=False)\n",
    "lmLassoCV = LassoCV(alphas=al_lasso, cv=kf, normalize=False)\n",
    "\n",
    "#lm = LinearRegression()\n",
    "#lmRidgeCV = RidgeCV(cv=5, normalize=False)\n",
    "#lmLassoCV = LassoCV(cv=5, normalize=False)"
   ]
  },
  {
   "cell_type": "code",
   "execution_count": 74,
   "metadata": {},
   "outputs": [
    {
     "data": {
      "text/plain": [
       "RidgeCV(alphas=array([0.001, 0.002, ..., 0.299, 0.3  ]),\n",
       "    cv=KFold(n_splits=5, random_state=53, shuffle=True),\n",
       "    fit_intercept=True, gcv_mode=None, normalize=False, scoring=None,\n",
       "    store_cv_values=False)"
      ]
     },
     "execution_count": 74,
     "metadata": {},
     "output_type": "execute_result"
    }
   ],
   "source": [
    "lmRidgeCV"
   ]
  },
  {
   "cell_type": "code",
   "execution_count": 75,
   "metadata": {},
   "outputs": [
    {
     "data": {
      "text/plain": [
       "LassoCV(alphas=array([0.1    , 0.10234, ..., 0.79766, 0.8    ]), copy_X=True,\n",
       "    cv=KFold(n_splits=5, random_state=53, shuffle=True), eps=0.001,\n",
       "    fit_intercept=True, max_iter=1000, n_alphas=100, n_jobs=1,\n",
       "    normalize=False, positive=False, precompute='auto', random_state=None,\n",
       "    selection='cyclic', tol=0.0001, verbose=False)"
      ]
     },
     "execution_count": 75,
     "metadata": {},
     "output_type": "execute_result"
    }
   ],
   "source": [
    "lm.fit(X_train, y_train)\n",
    "lmRidgeCV.fit(X_train, y_train)\n",
    "lmLassoCV.fit(X_train, y_train)"
   ]
  },
  {
   "cell_type": "code",
   "execution_count": 76,
   "metadata": {},
   "outputs": [
    {
     "name": "stdout",
     "output_type": "stream",
     "text": [
      "Alpha Ridge: 0.3 \n",
      "Alpha LASSO: 0.8 \n",
      "\n"
     ]
    }
   ],
   "source": [
    "print('Alpha Ridge:',lmRidgeCV.alpha_,'\\n'\n",
    "      'Alpha LASSO:',lmLassoCV.alpha_,'\\n')"
   ]
  },
  {
   "cell_type": "code",
   "execution_count": 77,
   "metadata": {},
   "outputs": [
    {
     "name": "stdout",
     "output_type": "stream",
     "text": [
      "Score Train Lineal: 0.2600737172438843 \n",
      "Score Train Ridge: 0.26005789535433355 \n",
      "Score Train Lasso: 0.2597802511326749\n",
      "Train MSE lineal= 607784.538873362 \n",
      "Train MSE Ridge= 607797.5351678156 \n",
      "Train MSE Lasso= 608025.595542429\n",
      "R2= 0.2600737172438843 \n",
      "R2= 0.26005789535433355 \n",
      "R2= 0.2597802511326749\n"
     ]
    }
   ],
   "source": [
    "# Calculamos el R2\n",
    "\n",
    "print(\"Score Train Lineal:\", lm.score(X_train, y_train),\"\\n\"\n",
    "      \"Score Train Ridge:\",  lmRidgeCV.score(X_train, y_train),\"\\n\"\n",
    "      \"Score Train Lasso:\",  lmLassoCV.score(X_train, y_train))\n",
    "\n",
    "# Calculamos el MSE\n",
    "\n",
    "lmpred_Tr = lm.predict(X_train)\n",
    "lmRidgepred_Tr = lmRidgeCV.predict(X_train)\n",
    "lmLassoepred_Tr = lmLassoCV.predict(X_train)\n",
    "\n",
    "print(\"Train MSE lineal=\", mean_squared_error(y_train,lmpred_Tr), \"\\n\"\n",
    "      \"Train MSE Ridge=\",  mean_squared_error(y_train,lmRidgepred_Tr), \"\\n\"\n",
    "      \"Train MSE Lasso=\",  mean_squared_error(y_train,lmLassoepred_Tr))\n",
    "\n",
    "print(\"R2=\", r2_score(y_train,lmpred_Tr), \"\\n\"\n",
    "      \"R2=\",  r2_score(y_train,lmRidgepred_Tr), \"\\n\"\n",
    "      \"R2=\",  r2_score(y_train,lmLassoepred_Tr))"
   ]
  },
  {
   "cell_type": "code",
   "execution_count": 78,
   "metadata": {},
   "outputs": [
    {
     "name": "stdout",
     "output_type": "stream",
     "text": [
      "MSE lineal= 599363.8553205946 \n",
      "MSE Ridge= 599907.5725453256 \n",
      "MSE Lasso= 600984.628577429\n",
      "R2= 0.31545289391617404 \n",
      "R2= 0.31483190209390544 \n",
      "R2= 0.3136017718761396\n"
     ]
    }
   ],
   "source": [
    "# Hacemos las predicciones sobre la matriz de predictores del Test Set\n",
    "\n",
    "lmpred_Te = lm.predict(X_test)\n",
    "lmRidgepred_Te = lmRidgeCV.predict(X_test)\n",
    "lmLassoepred_Te = lmLassoCV.predict(X_test)\n",
    "\n",
    "# Testeo final del modelo sobre Test Set\n",
    "\n",
    "print(\"MSE lineal=\", mean_squared_error(y_test,lmpred_Te), \"\\n\"\n",
    "      \"MSE Ridge=\",  mean_squared_error(y_test,lmRidgepred_Te), \"\\n\"\n",
    "      \"MSE Lasso=\",  mean_squared_error(y_test,lmLassoepred_Te))\n",
    "\n",
    "print(\"R2=\", r2_score(y_test,lmpred_Te), \"\\n\"\n",
    "      \"R2=\",  r2_score(y_test,lmRidgepred_Te), \"\\n\"\n",
    "      \"R2=\",  r2_score(y_test,lmLassoepred_Te))"
   ]
  },
  {
   "cell_type": "code",
   "execution_count": 79,
   "metadata": {},
   "outputs": [
    {
     "data": {
      "text/plain": [
       "3061.9715703856587"
      ]
     },
     "execution_count": 79,
     "metadata": {},
     "output_type": "execute_result"
    }
   ],
   "source": [
    "lmRidgepred_Te.mean()"
   ]
  },
  {
   "cell_type": "code",
   "execution_count": 80,
   "metadata": {},
   "outputs": [
    {
     "data": {
      "text/plain": [
       "3061.698923318569"
      ]
     },
     "execution_count": 80,
     "metadata": {},
     "output_type": "execute_result"
    }
   ],
   "source": [
    "lmpred_Te.mean()"
   ]
  },
  {
   "cell_type": "code",
   "execution_count": 81,
   "metadata": {},
   "outputs": [
    {
     "data": {
      "text/plain": [
       "3063.4068307156263"
      ]
     },
     "execution_count": 81,
     "metadata": {},
     "output_type": "execute_result"
    }
   ],
   "source": [
    "lmLassoepred_Te.mean()"
   ]
  },
  {
   "cell_type": "code",
   "execution_count": 82,
   "metadata": {},
   "outputs": [
    {
     "data": {
      "text/plain": [
       "3046.846538137672"
      ]
     },
     "execution_count": 82,
     "metadata": {},
     "output_type": "execute_result"
    }
   ],
   "source": [
    "y_test.mean()"
   ]
  },
  {
   "cell_type": "code",
   "execution_count": 83,
   "metadata": {},
   "outputs": [
    {
     "data": {
      "image/png": "[encoded data removed]",
      "text/plain": [
       "<matplotlib.figure.Figure at 0xe185080>"
      ]
     },
     "metadata": {},
     "output_type": "display_data"
    }
   ],
   "source": [
    "plt.rcParams[\"figure.figsize\"] = [10.0, 7.0]\n",
    "plt.scatter(y_test,lmpred_Te)\n",
    "plt.xlabel(\"Y de test\")\n",
    "plt.ylabel(\"Valores predichos\")\n",
    "plt.plot([0,5500],[0,5500])\n",
    "plt.plot([0,10000],[np.mean(y_test),np.mean(y_test)])\n",
    "plt.show()\n"
   ]
  },
  {
   "cell_type": "code",
   "execution_count": 84,
   "metadata": {},
   "outputs": [
    {
     "data": {
      "text/plain": [
       "0.31545289391617404"
      ]
     },
     "execution_count": 84,
     "metadata": {},
     "output_type": "execute_result"
    }
   ],
   "source": [
    "r2_score(y_test,lmpred_Te)"
   ]
  },
  {
   "cell_type": "code",
   "execution_count": 85,
   "metadata": {},
   "outputs": [
    {
     "data": {
      "text/plain": [
       "(3107.1834731416516,\n",
       " array([-582.5790483 ,  711.00875973, -199.23072462, -196.95301381,\n",
       "        -386.17313342,  633.51549813,  421.40064389,    0.        ,\n",
       "         111.77825054,  -44.87089843, -590.5069629 ,  -16.86754906,\n",
       "         265.76010945,   35.77762474,  -66.1947611 ]))"
      ]
     },
     "execution_count": 85,
     "metadata": {},
     "output_type": "execute_result"
    }
   ],
   "source": [
    "(lmLassoCV.intercept_,lmLassoCV.coef_)"
   ]
  },
  {
   "cell_type": "code",
   "execution_count": null,
   "metadata": {},
   "outputs": [],
   "source": []
  },
  {
   "cell_type": "markdown",
   "metadata": {},
   "source": [
    "# Análisis exploratorio\n",
    "\n",
    "Como estamos intentando predecir precios por metro cuadrado es importante realizar una primera vista y exploración de los datos."
   ]
  },
  {
   "cell_type": "code",
   "execution_count": 86,
   "metadata": {
    "focus": false,
    "id": "a202ef16-b0d9-48e0-bed5-7d7b5be65f9f"
   },
   "outputs": [],
   "source": [
    "# Calculo de correlacion entre features\n"
   ]
  },
  {
   "cell_type": "code",
   "execution_count": 87,
   "metadata": {},
   "outputs": [],
   "source": [
    "# Analisis exploratorio, graficos...\n"
   ]
  },
  {
   "cell_type": "markdown",
   "metadata": {},
   "source": [
    "¿En qué barrios los precios por $m^2$ son más altos? "
   ]
  },
  {
   "cell_type": "code",
   "execution_count": null,
   "metadata": {},
   "outputs": [],
   "source": []
  },
  {
   "cell_type": "markdown",
   "metadata": {},
   "source": [
    "¿En qué barrios hay una mayor cantidad de viviendas para su venta?"
   ]
  },
  {
   "cell_type": "code",
   "execution_count": null,
   "metadata": {},
   "outputs": [],
   "source": []
  },
  {
   "cell_type": "markdown",
   "metadata": {},
   "source": [
    "¿ En qué barrios hay una mayor dispersión de precios?"
   ]
  },
  {
   "cell_type": "code",
   "execution_count": null,
   "metadata": {},
   "outputs": [],
   "source": []
  },
  {
   "cell_type": "markdown",
   "metadata": {},
   "source": [
    "¿Qué tipo de propiedad presenta los mayores precios? ¿Cuál las mayores dispersiones?"
   ]
  },
  {
   "cell_type": "code",
   "execution_count": null,
   "metadata": {},
   "outputs": [],
   "source": []
  },
  {
   "cell_type": "markdown",
   "metadata": {},
   "source": [
    "Continua realizando un análisis exploratorio del dataset..."
   ]
  },
  {
   "cell_type": "code",
   "execution_count": null,
   "metadata": {},
   "outputs": [],
   "source": []
  },
  {
   "cell_type": "markdown",
   "metadata": {},
   "source": [
    "## BONUS: Empezando con regresiones lineales...\n",
    "\n",
    "Si se atreven, podrían empezar a probar con algunos modelos de regresión no demasiado sofisticados. Seleccionen (o construyan) su variable dependiente ($Y$) y comiencen probando con pocas variables y modelos sencillos.\n",
    "\n",
    "Usen el estimador `LinearRegression` de submódulo `sklearn.linear_model`.\n",
    "\n",
    "Recuerden los pasos para comenzar a trabajar con estimadores en Scikit-Learn.\n",
    "    \n",
    "1. Elegir una clase de modelo importando la clase de estimador apropiado de Scikit-Learn.\n",
    "2. Seleccionar los hiperparámetros del modelo instanciando la clase con los valores deseados.\n",
    "3. Preparar los datos en una matriz de features y un array target, como vimos previamente.\n",
    "4. Ajustar el modelo a los datos invocando el método fit() de la instancia del modelo.\n",
    "5. Aplicar el modelo a nuevos datos:\n",
    "    * Para aprendizaje supervisado, frecuentemente predecimos labels para datos nuevos usando el método predict()\n",
    "    * Para aprendizaje no supervisado, frecuentemente transformamos o inferimos propiedades de los datos usando los métodos transform() o predict()\n",
    "    \n",
    "¿Qué pueden decir del ajuste y la capacidad predictiva de sus modelos?"
   ]
  },
  {
   "cell_type": "code",
   "execution_count": 88,
   "metadata": {},
   "outputs": [],
   "source": [
    "from sklearn.linear_model import LinearRegression"
   ]
  },
  {
   "cell_type": "code",
   "execution_count": null,
   "metadata": {},
   "outputs": [],
   "source": []
  }
 ],
 "metadata": {
  "kernelspec": {
   "display_name": "Python 3",
   "language": "python",
   "name": "python3"
  },
  "language_info": {
   "codemirror_mode": {
    "name": "ipython",
    "version": 3
   },
   "file_extension": ".py",
   "mimetype": "text/x-python",
   "name": "python",
   "nbconvert_exporter": "python",
   "pygments_lexer": "ipython3",
   "version": "3.6.4"
  }
 },
 "nbformat": 4,
 "nbformat_minor": 1
}
